{
 "cells": [
  {
   "attachments": {},
   "cell_type": "markdown",
   "metadata": {},
   "source": [
    "# Start Server and import modules"
   ]
  },
  {
   "cell_type": "code",
   "execution_count": 122,
   "metadata": {},
   "outputs": [],
   "source": [
    "# REFERENCE: https://www.kaggle.com/code/sercanyesiloz/pyspark-tutorial/notebook\n",
    "import os\n",
    "import warnings\n",
    "from pyspark.sql import SparkSession\n",
    "from pyspark.sql.types import StructField, StructType, StringType, IntegerType, FloatType\n",
    "from pyspark.sql.functions import split, count, when, isnan, col, regexp_replace\n",
    "\n",
    "# importing the necessary modules\n",
    "\n",
    "import sys\n",
    "import pyspark\n",
    "import random\n",
    "import pandas as pd\n",
    "import findspark\n",
    "findspark.init()\n",
    "\n",
    "from pyspark.ml.regression import LinearRegression\n",
    "from pyspark.ml.stat import Correlation\n",
    "import pyspark.sql.functions as F\n",
    "\n",
    "os.environ['PYSPARK_PYTHON'] = sys.executable\n",
    "os.environ['PYSPARK_DRIVER_PYTHON'] = sys.executable\n",
    "os.environ['PYSPARK_DRIVER_PYTHON_OPTS'] = \"notebook\""
   ]
  },
  {
   "cell_type": "code",
   "execution_count": 123,
   "metadata": {},
   "outputs": [
    {
     "name": "stdout",
     "output_type": "stream",
     "text": [
      "Requirement already satisfied: kaggle in /Library/Frameworks/Python.framework/Versions/3.11/lib/python3.11/site-packages (1.5.13)\n",
      "Requirement already satisfied: six>=1.10 in /Users/home/Library/Python/3.11/lib/python/site-packages (from kaggle) (1.16.0)\n",
      "Requirement already satisfied: certifi in /Library/Frameworks/Python.framework/Versions/3.11/lib/python3.11/site-packages (from kaggle) (2022.12.7)\n",
      "Requirement already satisfied: python-dateutil in /Users/home/Library/Python/3.11/lib/python/site-packages (from kaggle) (2.8.2)\n",
      "Requirement already satisfied: requests in /Library/Frameworks/Python.framework/Versions/3.11/lib/python3.11/site-packages (from kaggle) (2.28.2)\n",
      "Requirement already satisfied: tqdm in /Library/Frameworks/Python.framework/Versions/3.11/lib/python3.11/site-packages (from kaggle) (4.65.0)\n",
      "Requirement already satisfied: python-slugify in /Library/Frameworks/Python.framework/Versions/3.11/lib/python3.11/site-packages (from kaggle) (8.0.1)\n",
      "Requirement already satisfied: urllib3 in /Library/Frameworks/Python.framework/Versions/3.11/lib/python3.11/site-packages (from kaggle) (1.26.14)\n",
      "Requirement already satisfied: text-unidecode>=1.3 in /Library/Frameworks/Python.framework/Versions/3.11/lib/python3.11/site-packages (from python-slugify->kaggle) (1.3)\n",
      "Requirement already satisfied: charset-normalizer<4,>=2 in /Library/Frameworks/Python.framework/Versions/3.11/lib/python3.11/site-packages (from requests->kaggle) (3.0.1)\n",
      "Requirement already satisfied: idna<4,>=2.5 in /Library/Frameworks/Python.framework/Versions/3.11/lib/python3.11/site-packages (from requests->kaggle) (3.4)\n",
      "acorn_details.csv                     informations_households.csv\n",
      "\u001b[34mdaily_dataset\u001b[m\u001b[m                         uk_bank_holidays.csv\n",
      "darksky_parameters_documentation.html weather_daily_darksky.csv\n",
      "\u001b[34mhalfhourly_dataset\u001b[m\u001b[m                    weather_hourly_darksky.csv\n",
      "\n",
      "./darksky/daily_dataset:\n",
      "\u001b[34mdaily_dataset\u001b[m\u001b[m\n",
      "\n",
      "./darksky/daily_dataset/daily_dataset:\n",
      "block_105.csv block_111.csv block_18.csv  block_24.csv  block_30.csv\n",
      "block_106.csv block_12.csv  block_19.csv  block_25.csv  block_31.csv\n",
      "block_107.csv block_13.csv  block_2.csv   block_26.csv  block_32.csv\n",
      "block_108.csv block_14.csv  block_20.csv  block_27.csv  block_33.csv\n",
      "block_109.csv block_15.csv  block_21.csv  block_28.csv  block_34.csv\n",
      "block_11.csv  block_16.csv  block_22.csv  block_29.csv\n",
      "block_110.csv block_17.csv  block_23.csv  block_3.csv\n",
      "\n",
      "./darksky/halfhourly_dataset:\n",
      "\u001b[34mhalfhourly_dataset\u001b[m\u001b[m\n",
      "\n",
      "./darksky/halfhourly_dataset/halfhourly_dataset:\n",
      "block_62.csv block_69.csv block_75.csv block_81.csv block_88.csv block_94.csv\n",
      "block_63.csv block_7.csv  block_76.csv block_82.csv block_89.csv block_95.csv\n",
      "block_64.csv block_70.csv block_77.csv block_83.csv block_9.csv  block_96.csv\n",
      "block_65.csv block_71.csv block_78.csv block_84.csv block_90.csv block_97.csv\n",
      "block_66.csv block_72.csv block_79.csv block_85.csv block_91.csv block_98.csv\n",
      "block_67.csv block_73.csv block_8.csv  block_86.csv block_92.csv block_99.csv\n",
      "block_68.csv block_74.csv block_80.csv block_87.csv block_93.csv\n"
     ]
    }
   ],
   "source": [
    "!pip3 install kaggle\n",
    "import kaggle\n",
    "import zipfile\n",
    "from os.path import exists\n",
    "\n",
    "# Authenticate\n",
    "from kaggle.api.kaggle_api_extended import KaggleApi\n",
    "api = KaggleApi()\n",
    "api.authenticate()\n",
    "\n",
    "# check for file and if it does not exist, download and extract dataset\n",
    "if os.path.exists('./darksky') is False:\n",
    "    api.dataset_download_files('jeanmidev/smart-meters-in-london', path = './')\n",
    "    with zipfile.ZipFile('./smart-meters-in-london.zip', 'r') as zipref:\n",
    "        zipref.extractall('./darksky')\n",
    "\n",
    "# list files\n",
    "!ls -R ./darksky"
   ]
  },
  {
   "cell_type": "code",
   "execution_count": 124,
   "metadata": {},
   "outputs": [
    {
     "data": {
      "text/html": [
       "\n",
       "            <div>\n",
       "                <p><b>SparkSession - in-memory</b></p>\n",
       "                \n",
       "        <div>\n",
       "            <p><b>SparkContext</b></p>\n",
       "\n",
       "            <p><a href=\"http://harddritoosmall:4040\">Spark UI</a></p>\n",
       "\n",
       "            <dl>\n",
       "              <dt>Version</dt>\n",
       "                <dd><code>v3.3.2</code></dd>\n",
       "              <dt>Master</dt>\n",
       "                <dd><code>local[*]</code></dd>\n",
       "              <dt>AppName</dt>\n",
       "                <dd><code>TeamDarkSky</code></dd>\n",
       "            </dl>\n",
       "        </div>\n",
       "        \n",
       "            </div>\n",
       "        "
      ],
      "text/plain": [
       "<pyspark.sql.session.SparkSession at 0x11b930790>"
      ]
     },
     "execution_count": 124,
     "metadata": {},
     "output_type": "execute_result"
    }
   ],
   "source": [
    "# importing the necessary modules\n",
    "\n",
    "import findspark\n",
    "findspark.init()\n",
    "\n",
    "# Initialize a SparkSession\n",
    "from pyspark.sql import SparkSession\n",
    "\n",
    "# Creating SparkSession object\n",
    "spark = SparkSession.builder \\\n",
    "    .appName('TeamDarkSky') \\\n",
    "    .config(\"spark.jars\", \"/Library/Frameworks/Python.framework/Versions/3.11/bin/sqljdbc_12.2/enu/mssql-jdbc-12.2.0.jre8.jar\")\\\n",
    "    .getOrCreate()\n",
    "\n",
    "# Caling the session variable object\n",
    "\n",
    "spark"
   ]
  },
  {
   "attachments": {},
   "cell_type": "markdown",
   "metadata": {},
   "source": [
    "# Import Datasets"
   ]
  },
  {
   "cell_type": "code",
   "execution_count": 125,
   "metadata": {},
   "outputs": [
    {
     "name": "stderr",
     "output_type": "stream",
     "text": [
      "[Stage 433:>                                                        (0 + 8) / 8]\r"
     ]
    },
    {
     "name": "stdout",
     "output_type": "stream",
     "text": [
      "root\n",
      " |-- LCLid: string (nullable = true)\n",
      " |-- day: timestamp (nullable = true)\n",
      " |-- energy_median: double (nullable = true)\n",
      " |-- energy_mean: double (nullable = true)\n",
      " |-- energy_max: double (nullable = true)\n",
      " |-- energy_count: integer (nullable = true)\n",
      " |-- energy_std: double (nullable = true)\n",
      " |-- energy_sum: double (nullable = true)\n",
      " |-- energy_min: double (nullable = true)\n",
      "\n"
     ]
    },
    {
     "name": "stderr",
     "output_type": "stream",
     "text": [
      "                                                                                \r"
     ]
    }
   ],
   "source": [
    "# create Spark dataframe for daily energy usage data\n",
    "\n",
    "dailyEnergyDf = spark.read.csv('./darksky/daily_dataset/daily_dataset', inferSchema=True, header=True)\n",
    "\n",
    "dailyEnergyDf.printSchema()\n",
    "\n"
   ]
  },
  {
   "cell_type": "code",
   "execution_count": 126,
   "metadata": {},
   "outputs": [
    {
     "name": "stdout",
     "output_type": "stream",
     "text": [
      "+---------+-------------------+-------------------+-------------------+-------------------+------------+--------------------+------------------+--------------------+\n",
      "|    LCLid|                day|      energy_median|        energy_mean|         energy_max|energy_count|          energy_std|        energy_sum|          energy_min|\n",
      "+---------+-------------------+-------------------+-------------------+-------------------+------------+--------------------+------------------+--------------------+\n",
      "|MAC000048|2011-12-08 00:00:00|              0.107|0.15921739130434787| 0.5760000000000001|          23| 0.11802116779387856| 3.662000000000001|               0.087|\n",
      "|MAC000048|2011-12-09 00:00:00|              0.092|            0.12575|               0.57|          48| 0.08927664391617872|             6.036|               0.087|\n",
      "|MAC000048|2011-12-10 00:00:00|             0.0925|0.20964583541666668| 1.3219999999999998|          48|  0.2882244672915173|        10.0630001|               0.087|\n",
      "|MAC000048|2011-12-11 00:00:00|0.11599999999999999| 0.2451874979166667|          2.0009999|          48| 0.32513993587499834|        11.7689999| 0.08800000000000001|\n",
      "|MAC000048|2011-12-12 00:00:00|              0.095|0.12318750000000002|              0.326|          48| 0.05794665788097247| 5.913000000000001|               0.087|\n",
      "|MAC000048|2011-12-13 00:00:00|0.08900000000000001|0.09481250000000004|0.11599999999999999|          48|0.010393648326353689| 4.551000000000002|               0.087|\n",
      "|MAC000048|2011-12-14 00:00:00|0.08900000000000001|0.10025000000000006|0.36700000000000005|          48|  0.0407020831711116| 4.812000000000003|               0.085|\n",
      "|MAC000048|2011-12-15 00:00:00|             0.1005|0.17162499791666674|          1.2869999|          48| 0.20087441969490832| 8.237999900000004|               0.092|\n",
      "|MAC000048|2011-12-16 00:00:00|              0.532| 0.6125416645833334|              1.591|          48| 0.32577893030935995|29.401999900000003|               0.095|\n",
      "|MAC000048|2011-12-17 00:00:00|              0.098|          0.2043125|              0.995|          48| 0.22246952038425394|             9.807|               0.094|\n",
      "|MAC000048|2011-12-18 00:00:00|0.36649999999999994|      0.47897916875|              2.372|          48|  0.5333163476908179|        22.9910001|               0.096|\n",
      "|MAC000048|2011-12-19 00:00:00| 0.5514999999999999| 0.5084374979166667| 1.3869999999999998|          48| 0.35284369566416657|24.404999900000004|               0.096|\n",
      "|MAC000048|2011-12-20 00:00:00|             0.1335|0.17885416666666665|              0.807|          48|  0.1285258463257833| 8.584999999999999|               0.095|\n",
      "|MAC000048|2011-12-21 00:00:00|0.08249999999999999|0.12616666666666676| 0.6759999999999999|          48| 0.14078357213963977|6.0560000000000045|0.055999999999999994|\n",
      "|MAC000048|2011-12-22 00:00:00|              0.117|          0.1611875| 0.8590000000000001|          48| 0.13566066179838016| 7.737000000000001|               0.095|\n",
      "|MAC000048|2011-12-23 00:00:00|              0.105|0.22202083125000005|          2.0039999|          48| 0.37667166759040577|10.656999900000002|               0.094|\n",
      "|MAC000048|2011-12-24 00:00:00|             0.1225|0.19293750000000007|              0.591|          48| 0.13049535839956067| 9.261000000000003| 0.09699999999999999|\n",
      "|MAC000048|2011-12-25 00:00:00|0.11249999999999999|0.11814583333333335|              0.141|          48|0.010433150078829308| 5.671000000000001| 0.10800000000000001|\n",
      "|MAC000048|2011-12-26 00:00:00|              0.113|0.11818750000000006|               0.14|          48|0.010317628479781998| 5.673000000000003|               0.109|\n",
      "|MAC000048|2011-12-27 00:00:00|              0.113|0.11768750000000001|              0.138|          48|0.010310408395238077| 5.649000000000001|               0.109|\n",
      "+---------+-------------------+-------------------+-------------------+-------------------+------------+--------------------+------------------+--------------------+\n",
      "only showing top 20 rows\n",
      "\n"
     ]
    }
   ],
   "source": [
    "dailyEnergyDf.show()"
   ]
  },
  {
   "cell_type": "code",
   "execution_count": 127,
   "metadata": {},
   "outputs": [
    {
     "name": "stdout",
     "output_type": "stream",
     "text": [
      "root\n",
      " |-- visibility: double (nullable = true)\n",
      " |-- windBearing: integer (nullable = true)\n",
      " |-- temperature: double (nullable = true)\n",
      " |-- time: timestamp (nullable = true)\n",
      " |-- dewPoint: double (nullable = true)\n",
      " |-- pressure: double (nullable = true)\n",
      " |-- apparentTemperature: double (nullable = true)\n",
      " |-- windSpeed: double (nullable = true)\n",
      " |-- precipType: string (nullable = true)\n",
      " |-- icon: string (nullable = true)\n",
      " |-- humidity: double (nullable = true)\n",
      " |-- summary: string (nullable = true)\n",
      "\n"
     ]
    }
   ],
   "source": [
    "# Create Spark dataframe for hourly weather\n",
    "weatherHourlyDf = spark.read.csv('./darksky/weather_hourly_darksky.csv', inferSchema=True, header=True)\n",
    "\n",
    "weatherHourlyDf.printSchema()"
   ]
  },
  {
   "cell_type": "code",
   "execution_count": 128,
   "metadata": {},
   "outputs": [
    {
     "name": "stdout",
     "output_type": "stream",
     "text": [
      "+----------+-----------+-----------+-------------------+--------+--------+-------------------+---------+----------+-------------------+--------+-------------+\n",
      "|visibility|windBearing|temperature|               time|dewPoint|pressure|apparentTemperature|windSpeed|precipType|               icon|humidity|      summary|\n",
      "+----------+-----------+-----------+-------------------+--------+--------+-------------------+---------+----------+-------------------+--------+-------------+\n",
      "|      5.97|        104|      10.24|2011-11-11 00:00:00|    8.86| 1016.76|              10.24|     2.77|      rain|partly-cloudy-night|    0.91|Partly Cloudy|\n",
      "|      4.88|         99|       9.76|2011-11-11 01:00:00|    8.83| 1016.63|               8.24|     2.95|      rain|partly-cloudy-night|    0.94|Partly Cloudy|\n",
      "|       3.7|         98|       9.46|2011-11-11 02:00:00|    8.79| 1016.36|               7.76|     3.17|      rain|partly-cloudy-night|    0.96|Partly Cloudy|\n",
      "|      3.12|         99|       9.23|2011-11-11 03:00:00|    8.63| 1016.28|               7.44|     3.25|      rain|                fog|    0.96|        Foggy|\n",
      "|      1.85|        111|       9.26|2011-11-11 04:00:00|    9.21| 1015.98|               7.24|      3.7|      rain|                fog|     1.0|        Foggy|\n",
      "|      1.96|        115|       9.33|2011-11-11 05:00:00|    8.87| 1015.91|               7.19|     3.97|      rain|                fog|    0.97|        Foggy|\n",
      "|       1.3|        118|       9.31|2011-11-11 06:00:00|    8.82|  1015.7|                7.1|      4.1|      rain|                fog|    0.97|        Foggy|\n",
      "|      1.22|        114|       8.85|2011-11-11 07:00:00|    8.69| 1016.08|               6.48|     4.23|      rain|                fog|    0.99|        Foggy|\n",
      "|       1.4|        120|       9.13|2011-11-11 08:00:00|    8.75| 1016.33|               6.84|      4.2|      rain|                fog|    0.97|        Foggy|\n",
      "|      1.38|        121|       9.23|2011-11-11 09:00:00|     8.7| 1016.57|               7.07|     3.96|      rain|                fog|    0.97|        Foggy|\n",
      "|      1.35|        115|       9.21|2011-11-11 10:00:00|    8.76| 1016.26|               6.96|     4.16|      rain|                fog|    0.97|        Foggy|\n",
      "|      1.72|        127|       9.78|2011-11-11 11:00:00|    9.23| 1016.17|               7.68|     4.14|      rain|                fog|    0.96|        Foggy|\n",
      "|      1.83|        129|       9.91|2011-11-11 12:00:00|    9.34| 1015.92|               7.91|     3.97|      rain|                fog|    0.96|        Foggy|\n",
      "|      2.53|        120|      10.22|2011-11-11 13:00:00|    9.73| 1015.49|              10.22|     4.25|      rain|                fog|    0.97|        Foggy|\n",
      "|      3.67|        122|      10.63|2011-11-11 14:00:00|    9.73|  1015.1|              10.63|     4.28|      rain|  partly-cloudy-day|    0.94|Mostly Cloudy|\n",
      "|      3.77|        126|      10.34|2011-11-11 15:00:00|     9.7| 1015.32|              10.34|      4.3|      rain|  partly-cloudy-day|    0.96|Mostly Cloudy|\n",
      "|      3.99|        121|      10.31|2011-11-11 16:00:00|    9.66| 1015.13|              10.31|      4.8|      rain|  partly-cloudy-day|    0.96|Mostly Cloudy|\n",
      "|      4.02|        129|      10.39|2011-11-11 17:00:00|    9.73| 1015.41|              10.39|     4.13|      rain|partly-cloudy-night|    0.96|Mostly Cloudy|\n",
      "|      4.17|        130|      10.79|2011-11-11 18:00:00|    9.79| 1015.62|              10.79|     4.41|      rain|partly-cloudy-night|    0.94|Mostly Cloudy|\n",
      "|      4.36|        136|      10.87|2011-11-11 19:00:00|    9.86| 1015.91|              10.87|     4.69|      rain|partly-cloudy-night|    0.94|Mostly Cloudy|\n",
      "+----------+-----------+-----------+-------------------+--------+--------+-------------------+---------+----------+-------------------+--------+-------------+\n",
      "only showing top 20 rows\n",
      "\n"
     ]
    }
   ],
   "source": [
    "weatherHourlyDf.show()"
   ]
  },
  {
   "cell_type": "code",
   "execution_count": 129,
   "metadata": {},
   "outputs": [
    {
     "name": "stdout",
     "output_type": "stream",
     "text": [
      "+-------------------+--------------------+\n",
      "|      Bank holidays|                Type|\n",
      "+-------------------+--------------------+\n",
      "|2012-12-26 00:00:00|          Boxing Day|\n",
      "|2012-12-25 00:00:00|       Christmas Day|\n",
      "|2012-08-27 00:00:00| Summer bank holiday|\n",
      "|2012-05-06 00:00:00|Queen?s Diamond J...|\n",
      "|2012-04-06 00:00:00|Spring bank holid...|\n",
      "|2012-07-05 00:00:00|Early May bank ho...|\n",
      "|2012-09-04 00:00:00|       Easter Monday|\n",
      "|2012-06-04 00:00:00|         Good Friday|\n",
      "|2012-01-02 00:00:00|New Year?s Day (s...|\n",
      "|2013-12-26 00:00:00|          Boxing Day|\n",
      "|2013-12-25 00:00:00|       Christmas Day|\n",
      "|2013-08-26 00:00:00| Summer bank holiday|\n",
      "|2013-05-27 00:00:00| Spring bank holiday|\n",
      "|2013-06-05 00:00:00|Early May bank ho...|\n",
      "|2013-01-04 00:00:00|       Easter Monday|\n",
      "|2013-03-29 00:00:00|         Good Friday|\n",
      "|2013-01-01 00:00:00|      New Year?s Day|\n",
      "|2014-12-26 00:00:00|          Boxing Day|\n",
      "|2014-12-25 00:00:00|       Christmas Day|\n",
      "|2014-08-25 00:00:00| Summer bank holiday|\n",
      "|2014-05-26 00:00:00| Spring bank holiday|\n",
      "|2014-05-05 00:00:00|Early May bank ho...|\n",
      "|2014-04-21 00:00:00|       Easter Monday|\n",
      "|2014-04-18 00:00:00|         Good Friday|\n",
      "|2014-01-01 00:00:00|      New Year?s Day|\n",
      "|2011-12-26 00:00:00|          Boxing Day|\n",
      "|2011-12-25 00:00:00|       Christmas Day|\n",
      "|2011-08-25 00:00:00| Summer bank holiday|\n",
      "|2011-05-26 00:00:00| Spring bank holiday|\n",
      "|2011-05-05 00:00:00|Early May bank ho...|\n",
      "|2011-04-21 00:00:00|       Easter Monday|\n",
      "|2011-04-18 00:00:00|         Good Friday|\n",
      "|2011-01-03 00:00:00|New Year?s Day (s...|\n",
      "+-------------------+--------------------+\n",
      "\n"
     ]
    }
   ],
   "source": [
    "holidaysDf = spark.read.csv('./darksky/uk_bank_holidays.csv', inferSchema=True, header=True)\n",
    "\n",
    "holidaysDf.show(1000)"
   ]
  },
  {
   "attachments": {},
   "cell_type": "markdown",
   "metadata": {},
   "source": [
    "X acorn_details.csv                       X informations_households.csv\n",
    "X daily_dataset                           X uk_bank_holidays.csv\n",
    "/ darksky_parameters_documentation.html   X weather_daily_darksky.csv\n",
    "X halfhourly_dataset                      X weather_hourly_darksky.csv\n",
    "X hhblock_dataset"
   ]
  },
  {
   "cell_type": "code",
   "execution_count": 130,
   "metadata": {},
   "outputs": [
    {
     "name": "stdout",
     "output_type": "stream",
     "text": [
      "23/06/11 02:39:42 WARN CacheManager: Asked to cache already cached data.\n",
      "23/06/11 02:39:42 WARN CacheManager: Asked to cache already cached data.\n",
      "23/06/11 02:39:42 WARN CacheManager: Asked to cache already cached data.\n"
     ]
    },
    {
     "data": {
      "text/plain": [
       "DataFrame[visibility: double, windBearing: int, temperature: double, time: timestamp, dewPoint: double, pressure: double, apparentTemperature: double, windSpeed: double, precipType: string, icon: string, humidity: double, summary: string]"
      ]
     },
     "execution_count": 130,
     "metadata": {},
     "output_type": "execute_result"
    }
   ],
   "source": [
    "# cache datasets\n",
    "dailyEnergyDf.cache()\n",
    "\n",
    "holidaysDf.cache()\n",
    "\n",
    "weatherHourlyDf.cache()"
   ]
  },
  {
   "attachments": {},
   "cell_type": "markdown",
   "metadata": {},
   "source": [
    "# Pre-process data to get ready for aggregation, filters, and joins"
   ]
  },
  {
   "cell_type": "code",
   "execution_count": 131,
   "metadata": {},
   "outputs": [],
   "source": [
    "from pyspark.sql.functions import to_date\n",
    "\n",
    "# create date column in all of the datasets \n",
    "dailyEnergyDf = dailyEnergyDf.withColumn(\"Date\", to_date(col(\"day\")))\n",
    "weatherHourlyDf = weatherHourlyDf.withColumn(\"Date\", to_date(col(\"time\")))\n",
    "holidaysDf = holidaysDf.withColumn(\"Date\", to_date(col(\"Bank holidays\")))\n"
   ]
  },
  {
   "cell_type": "code",
   "execution_count": 132,
   "metadata": {},
   "outputs": [],
   "source": [
    "datesDf = holidaysDf.select(col(\"Date\"))\n",
    "\n",
    "filtereddailyEnergyDf = dailyEnergyDf.join(datesDf, dailyEnergyDf.Date == datesDf.Date, \"leftanti\")\n",
    "\n",
    "filteredweatherHourlyDf = weatherHourlyDf.join(datesDf, weatherHourlyDf.Date == datesDf.Date, \"leftanti\")\n"
   ]
  },
  {
   "cell_type": "code",
   "execution_count": 133,
   "metadata": {},
   "outputs": [
    {
     "name": "stdout",
     "output_type": "stream",
     "text": [
      "+---------+-------------------+-------------------+-------------------+-------------------+------------+--------------------+------------------+--------------------+----------+\n",
      "|    LCLid|                day|      energy_median|        energy_mean|         energy_max|energy_count|          energy_std|        energy_sum|          energy_min|      Date|\n",
      "+---------+-------------------+-------------------+-------------------+-------------------+------------+--------------------+------------------+--------------------+----------+\n",
      "|MAC000048|2011-12-08 00:00:00|              0.107|0.15921739130434787| 0.5760000000000001|          23| 0.11802116779387856| 3.662000000000001|               0.087|2011-12-08|\n",
      "|MAC000048|2011-12-09 00:00:00|              0.092|            0.12575|               0.57|          48| 0.08927664391617872|             6.036|               0.087|2011-12-09|\n",
      "|MAC000048|2011-12-10 00:00:00|             0.0925|0.20964583541666668| 1.3219999999999998|          48|  0.2882244672915173|        10.0630001|               0.087|2011-12-10|\n",
      "|MAC000048|2011-12-11 00:00:00|0.11599999999999999| 0.2451874979166667|          2.0009999|          48| 0.32513993587499834|        11.7689999| 0.08800000000000001|2011-12-11|\n",
      "|MAC000048|2011-12-12 00:00:00|              0.095|0.12318750000000002|              0.326|          48| 0.05794665788097247| 5.913000000000001|               0.087|2011-12-12|\n",
      "|MAC000048|2011-12-13 00:00:00|0.08900000000000001|0.09481250000000004|0.11599999999999999|          48|0.010393648326353689| 4.551000000000002|               0.087|2011-12-13|\n",
      "|MAC000048|2011-12-14 00:00:00|0.08900000000000001|0.10025000000000006|0.36700000000000005|          48|  0.0407020831711116| 4.812000000000003|               0.085|2011-12-14|\n",
      "|MAC000048|2011-12-15 00:00:00|             0.1005|0.17162499791666674|          1.2869999|          48| 0.20087441969490832| 8.237999900000004|               0.092|2011-12-15|\n",
      "|MAC000048|2011-12-16 00:00:00|              0.532| 0.6125416645833334|              1.591|          48| 0.32577893030935995|29.401999900000003|               0.095|2011-12-16|\n",
      "|MAC000048|2011-12-17 00:00:00|              0.098|          0.2043125|              0.995|          48| 0.22246952038425394|             9.807|               0.094|2011-12-17|\n",
      "|MAC000048|2011-12-18 00:00:00|0.36649999999999994|      0.47897916875|              2.372|          48|  0.5333163476908179|        22.9910001|               0.096|2011-12-18|\n",
      "|MAC000048|2011-12-19 00:00:00| 0.5514999999999999| 0.5084374979166667| 1.3869999999999998|          48| 0.35284369566416657|24.404999900000004|               0.096|2011-12-19|\n",
      "|MAC000048|2011-12-20 00:00:00|             0.1335|0.17885416666666665|              0.807|          48|  0.1285258463257833| 8.584999999999999|               0.095|2011-12-20|\n",
      "|MAC000048|2011-12-21 00:00:00|0.08249999999999999|0.12616666666666676| 0.6759999999999999|          48| 0.14078357213963977|6.0560000000000045|0.055999999999999994|2011-12-21|\n",
      "|MAC000048|2011-12-22 00:00:00|              0.117|          0.1611875| 0.8590000000000001|          48| 0.13566066179838016| 7.737000000000001|               0.095|2011-12-22|\n",
      "|MAC000048|2011-12-23 00:00:00|              0.105|0.22202083125000005|          2.0039999|          48| 0.37667166759040577|10.656999900000002|               0.094|2011-12-23|\n",
      "|MAC000048|2011-12-24 00:00:00|             0.1225|0.19293750000000007|              0.591|          48| 0.13049535839956067| 9.261000000000003| 0.09699999999999999|2011-12-24|\n",
      "|MAC000048|2011-12-27 00:00:00|              0.113|0.11768750000000001|              0.138|          48|0.010310408395238077| 5.649000000000001|               0.109|2011-12-27|\n",
      "|MAC000048|2011-12-28 00:00:00|0.11149999999999999|0.11631250000000004|              0.138|          48|0.009917009351013294| 5.583000000000002|               0.107|2011-12-28|\n",
      "|MAC000048|2011-12-29 00:00:00|              0.111|0.11622916666666665|              0.141|          48|0.010004763936167591| 5.578999999999999|               0.107|2011-12-29|\n",
      "+---------+-------------------+-------------------+-------------------+-------------------+------------+--------------------+------------------+--------------------+----------+\n",
      "only showing top 20 rows\n",
      "\n"
     ]
    }
   ],
   "source": [
    "filtereddailyEnergyDf.show()"
   ]
  },
  {
   "cell_type": "code",
   "execution_count": 134,
   "metadata": {},
   "outputs": [
    {
     "name": "stdout",
     "output_type": "stream",
     "text": [
      "+----------+-----------+-----------+-------------------+--------+--------+-------------------+---------+----------+-------------------+--------+-------------+----------+\n",
      "|visibility|windBearing|temperature|               time|dewPoint|pressure|apparentTemperature|windSpeed|precipType|               icon|humidity|      summary|      Date|\n",
      "+----------+-----------+-----------+-------------------+--------+--------+-------------------+---------+----------+-------------------+--------+-------------+----------+\n",
      "|      5.97|        104|      10.24|2011-11-11 00:00:00|    8.86| 1016.76|              10.24|     2.77|      rain|partly-cloudy-night|    0.91|Partly Cloudy|2011-11-11|\n",
      "|      4.88|         99|       9.76|2011-11-11 01:00:00|    8.83| 1016.63|               8.24|     2.95|      rain|partly-cloudy-night|    0.94|Partly Cloudy|2011-11-11|\n",
      "|       3.7|         98|       9.46|2011-11-11 02:00:00|    8.79| 1016.36|               7.76|     3.17|      rain|partly-cloudy-night|    0.96|Partly Cloudy|2011-11-11|\n",
      "|      4.02|        129|      10.39|2011-11-11 17:00:00|    9.73| 1015.41|              10.39|     4.13|      rain|partly-cloudy-night|    0.96|Mostly Cloudy|2011-11-11|\n",
      "|      4.17|        130|      10.79|2011-11-11 18:00:00|    9.79| 1015.62|              10.79|     4.41|      rain|partly-cloudy-night|    0.94|Mostly Cloudy|2011-11-11|\n",
      "|      4.36|        136|      10.87|2011-11-11 19:00:00|    9.86| 1015.91|              10.87|     4.69|      rain|partly-cloudy-night|    0.94|Mostly Cloudy|2011-11-11|\n",
      "|       5.1|        140|      11.28|2011-11-11 20:00:00|    9.99| 1016.08|              11.28|     4.64|      rain|partly-cloudy-night|    0.92|Mostly Cloudy|2011-11-11|\n",
      "|      6.08|        143|      11.52|2011-11-11 21:00:00|   10.38| 1016.48|              11.52|     4.25|      rain|partly-cloudy-night|    0.93|Mostly Cloudy|2011-11-11|\n",
      "|      5.25|        144|      11.93|2011-11-11 22:00:00|    10.5| 1016.95|              11.93|      4.0|      rain|partly-cloudy-night|    0.91|Mostly Cloudy|2011-11-11|\n",
      "|      12.5|        210|       2.83|2011-12-11 00:00:00|    1.17| 1015.67|               1.11|     1.78|      rain|partly-cloudy-night|    0.89|Partly Cloudy|2011-12-11|\n",
      "|     12.65|        204|       2.48|2011-12-11 01:00:00|    0.81| 1014.96|               0.31|     2.11|      rain|        clear-night|    0.89|        Clear|2011-12-11|\n",
      "|     13.02|        214|        2.7|2011-12-11 02:00:00|    1.29| 1014.42|               0.11|     2.57|      rain|        clear-night|     0.9|        Clear|2011-12-11|\n",
      "|     13.05|        211|       3.47|2011-12-11 03:00:00|    1.41| 1013.78|               0.66|      3.0|      rain|partly-cloudy-night|    0.86|Partly Cloudy|2011-12-11|\n",
      "|     12.97|        204|       3.74|2011-12-11 04:00:00|    1.53| 1012.94|               1.29|     2.64|      rain|partly-cloudy-night|    0.85|Partly Cloudy|2011-12-11|\n",
      "|     12.68|        201|       4.23|2011-12-11 05:00:00|    2.48| 1012.42|               1.82|      2.7|      rain|partly-cloudy-night|    0.88|Mostly Cloudy|2011-12-11|\n",
      "|     12.54|        199|       5.16|2011-12-11 06:00:00|    3.01| 1011.74|               3.03|     2.57|      rain|partly-cloudy-night|    0.86|Mostly Cloudy|2011-12-11|\n",
      "|      12.5|        198|       4.98|2011-12-11 07:00:00|    3.13| 1011.26|               2.39|     3.12|      rain|partly-cloudy-night|    0.88|Partly Cloudy|2011-12-11|\n",
      "|     12.01|        190|       5.79|2011-12-11 08:00:00|    3.73| 1010.85|               3.13|     3.48|      rain|partly-cloudy-night|    0.87|Mostly Cloudy|2011-12-11|\n",
      "|     11.27|        190|       8.04|2011-12-11 16:00:00|    5.53| 1004.05|               4.82|     5.82|      rain|partly-cloudy-night|    0.84|Mostly Cloudy|2011-12-11|\n",
      "|     10.99|        186|       7.92|2011-12-11 17:00:00|    6.07| 1003.19|                4.6|     6.02|      rain|partly-cloudy-night|    0.88|Mostly Cloudy|2011-12-11|\n",
      "+----------+-----------+-----------+-------------------+--------+--------+-------------------+---------+----------+-------------------+--------+-------------+----------+\n",
      "only showing top 20 rows\n",
      "\n"
     ]
    }
   ],
   "source": [
    "# filter to only show data for nighttime\n",
    "from pyspark.sql.functions import avg\n",
    "\n",
    "filteredweatherHourlyDf = filteredweatherHourlyDf.filter(col(\"icon\").contains(\"night\"))\n",
    "\n",
    "filteredweatherHourlyDf.show()"
   ]
  },
  {
   "cell_type": "code",
   "execution_count": 135,
   "metadata": {},
   "outputs": [
    {
     "name": "stdout",
     "output_type": "stream",
     "text": [
      "+----------+--------------------+------------------+--------------------+-------------------+------------------+------------------------+------------------+------------------+\n",
      "|      Date|DarkSky (visibility)|  avg(windBearing)|    avg(temperature)|      avg(dewPoint)|     avg(pressure)|avg(apparentTemperature)|    avg(windSpeed)|     avg(humidity)|\n",
      "+----------+--------------------+------------------+--------------------+-------------------+------------------+------------------------+------------------+------------------+\n",
      "|2012-04-17|  13.532999999999998|             192.4|               6.009| 1.3800000000000001|1003.9019999999998|                     2.8|             4.603|             0.724|\n",
      "|2012-10-06|   9.793076923076924|112.61538461538461|   8.657692307692308|  7.343846153846154|1012.3853846153847|       7.777692307692307|1.7769230769230768|0.9161538461538462|\n",
      "|2013-03-26|                13.1| 38.18181818181818|  1.1945454545454548| -4.476363636363636|1013.1272727272728|     -2.9063636363636367| 4.161818181818182|0.6581818181818182|\n",
      "|2013-05-21|   9.921111111111111| 311.8888888888889|  13.391111111111108|  9.773333333333333|1015.3788888888889|      13.391111111111108|3.5255555555555556|0.7888888888888889|\n",
      "|2013-01-22|   6.747857142857143| 86.42857142857143|-0.20285714285714276|-2.3335714285714286|1001.8564285714284|                  -2.735|3.4735714285714288|0.8614285714285713|\n",
      "|2013-09-09|              10.456|             251.8|   9.915000000000001|              8.288|1017.9537499999999|                   9.653|             2.159|0.8960000000000001|\n",
      "|2012-07-17|            12.55625|           248.625|  16.317500000000003|              14.37|           1020.96|                 16.3975| 4.481249999999999|            0.8825|\n",
      "|2013-09-19|  13.616363636363637|260.90909090909093|  10.460909090909091|   8.02909090909091|1011.5409090909092|       9.530909090909093|3.0690909090909098|0.8490909090909091|\n",
      "|2011-11-18|  12.456666666666669|             158.2|   9.975333333333333|  8.436000000000002|1017.9273333333332|       9.066666666666665| 2.972666666666667|0.9033333333333334|\n",
      "|2012-11-11|               9.474|234.46666666666667|   4.295333333333334| 3.1113333333333335|1011.0933333333334|      2.7786666666666666|1.8706666666666665|0.9219999999999999|\n",
      "|2013-02-02|  13.409999999999998|             320.8|   3.840666666666666|              -0.65|1014.3773333333334|      0.2893333333333334|             4.488|0.7293333333333332|\n",
      "|2012-02-12|  5.2250000000000005|291.64285714285717| -0.3335714285714288|-2.0399999999999996|           1034.85|     -1.8921428571428567|1.6635714285714285|0.8821428571428573|\n",
      "|2012-09-21|  12.334166666666667| 277.5833333333333|  11.519166666666665|  9.101666666666668|1016.1741666666668|      11.519166666666665|            2.4375|0.8524999999999999|\n",
      "|2012-08-23|  12.753000000000002|             234.3|  14.895999999999997|             11.724|          1014.327|      14.895999999999997|2.5100000000000002|0.8150000000000001|\n",
      "|2011-11-14|   4.200000000000001|             100.2|               9.247|               8.08|1023.7859999999998|       7.558999999999999|             3.428|             0.925|\n",
      "|2012-07-14|              11.565|           249.625|  13.684999999999997|           12.71625|          1004.105|      13.684999999999997|           3.00625|            0.9375|\n",
      "|2012-03-30|   7.194545454545454| 296.1818181818182|  10.134545454545453|  6.174545454545455|1023.5236363636363|       9.666363636363634|1.8945454545454545|0.7654545454545455|\n",
      "|2013-09-12|   7.637272727272727|251.63636363636363|  14.008181818181818| 12.881818181818181|1019.0400000000001|       14.01909090909091|1.8954545454545455|0.9299999999999998|\n",
      "|2013-02-04|              13.022|             250.4|               8.362|  4.780666666666666|          1011.534|                    5.14|             6.708|0.7873333333333333|\n",
      "|2014-01-24|  11.819166666666668|206.83333333333334|              4.5225| 2.5816666666666666|1014.3491666666669|      2.3008333333333337|2.7241666666666666|0.8724999999999999|\n",
      "+----------+--------------------+------------------+--------------------+-------------------+------------------+------------------------+------------------+------------------+\n",
      "only showing top 20 rows\n",
      "\n"
     ]
    }
   ],
   "source": [
    "# aggregate the weather by date and average the continuous columns\n",
    "\n",
    "aggWeatherHourlyDf = filteredweatherHourlyDf.groupBy(\"Date\"\n",
    "                                            ).agg(avg(\"visibility\").alias(\"DarkSky (visibility)\"), \n",
    "                                                  avg(\"windBearing\"), \n",
    "                                                  avg(\"temperature\"), \n",
    "                                                  avg(\"dewPoint\"), \n",
    "                                                  avg(\"pressure\"), \n",
    "                                                  avg(\"apparentTemperature\"), \n",
    "                                                  avg(\"windSpeed\"), \n",
    "                                                  avg(\"humidity\"))\n",
    "\n",
    "aggWeatherHourlyDf.show()"
   ]
  },
  {
   "cell_type": "code",
   "execution_count": 136,
   "metadata": {},
   "outputs": [
    {
     "name": "stdout",
     "output_type": "stream",
     "text": [
      "+--------------------+------------------+------------------+-------------------+------------------+------------------------+------------------+------------------+-------------------+-------------------+-------------------+--------------------+------------------+--------------------+\n",
      "|DarkSky (visibility)|  avg(windBearing)|  avg(temperature)|      avg(dewPoint)|     avg(pressure)|avg(apparentTemperature)|    avg(windSpeed)|     avg(humidity)|      energy_median|        energy_mean|         energy_max|          energy_std|        energy_sum|          energy_min|\n",
      "+--------------------+------------------+------------------+-------------------+------------------+------------------------+------------------+------------------+-------------------+-------------------+-------------------+--------------------+------------------+--------------------+\n",
      "|  13.435000000000002|             227.0|           5.33625|             2.4925|1018.7537500000001|                  2.3175|           3.97125|0.8200000000000001|              0.107|0.15921739130434787| 0.5760000000000001| 0.11802116779387856| 3.662000000000001|               0.087|\n",
      "|  12.920000000000002|             256.5| 4.688124999999999|0.35812499999999997|1010.5712500000001|                 0.90375|          5.293125|0.7375000000000002|              0.092|            0.12575|               0.57| 0.08927664391617872|             6.036|               0.087|\n",
      "|  12.968823529411766|240.35294117647058|1.9800000000000002| -0.378235294117647|1015.4294117647058|     -0.9794117647058824| 2.845294117647059|0.8458823529411766|             0.0925|0.20964583541666668| 1.3219999999999998|  0.2882244672915173|        10.0630001|               0.087|\n",
      "|   11.94764705882353|204.11764705882354|5.7305882352941175|  4.096470588235294|1007.6599999999999|      3.1988235294117646|3.5411764705882356|0.8917647058823528|0.11599999999999999| 0.2451874979166667|          2.0009999| 0.32513993587499834|        11.7689999| 0.08800000000000001|\n",
      "|  12.796923076923076| 235.6153846153846|5.6584615384615375|  3.742307692307693|1002.8476923076922|      2.3892307692307693| 4.655384615384615|0.8769230769230768|              0.095|0.12318750000000002|              0.326| 0.05794665788097247| 5.913000000000001|               0.087|\n",
      "|  13.064444444444442|231.55555555555554| 5.842222222222222| 0.8955555555555554| 993.4955555555557|      1.7744444444444443| 6.578888888888888|0.7066666666666667|0.08900000000000001|0.09481250000000004|0.11599999999999999|0.010393648326353689| 4.551000000000002|               0.087|\n",
      "|  13.297058823529412|217.47058823529412|4.9529411764705875| 1.8635294117647057| 994.3929411764706|      1.7794117647058825| 4.100588235294118|0.8047058823529413|0.08900000000000001|0.10025000000000006|0.36700000000000005|  0.0407020831711116| 4.812000000000003|               0.085|\n",
      "|  12.532857142857141|             192.5|  5.50857142857143|  2.347142857142857|           996.135|      2.5292857142857144| 4.062857142857142|0.8021428571428573|             0.1005|0.17162499791666674|          1.2869999| 0.20087441969490832| 8.237999900000004|               0.092|\n",
      "|  11.042941176470588|213.35294117647058| 3.591176470588236| 1.8352941176470594| 988.5435294117646|    -0.47235294117647064| 5.129411764705882|0.8852941176470588|              0.532| 0.6125416645833334|              1.591| 0.32577893030935995|29.401999900000003|               0.095|\n",
      "|   11.22235294117647|289.47058823529414|  2.76235294117647| 0.6917647058823528|1008.2647058823529|     -0.8411764705882351|4.0458823529411765|0.8641176470588237|              0.098|          0.2043125|              0.995| 0.22246952038425394|             9.807|               0.094|\n",
      "|  13.042352941176471| 295.2352941176471|1.5099999999999998|-0.7158823529411764|1016.4747058823527|     -1.9100000000000004|3.3341176470588234|0.8535294117647058|0.36649999999999994|      0.47897916875|              2.372|  0.5333163476908179|        22.9910001|               0.096|\n",
      "|  10.803529411764705|242.64705882352942|2.9370588235294117|  2.178235294117647|1014.2158823529411|      0.2499999999999997| 2.934705882352941|0.9470588235294118| 0.5514999999999999| 0.5084374979166667| 1.3869999999999998| 0.35284369566416657|24.404999900000004|               0.096|\n",
      "|  13.011176470588234|265.05882352941177| 6.374117647058823|  4.023529411764706|1014.7629411764707|      3.5888235294117643| 3.978823529411765|0.8517647058823529|             0.1335|0.17885416666666665|              0.807|  0.1285258463257833| 8.584999999999999|               0.095|\n",
      "|   9.331764705882353|247.11764705882354| 9.125882352941176|  8.006470588235294|1018.0900000000001|       8.258235294117647|3.1958823529411764|0.9276470588235294|0.08249999999999999|0.12616666666666676| 0.6759999999999999| 0.14078357213963977|6.0560000000000045|0.055999999999999994|\n",
      "|   13.05764705882353|253.05882352941177|  9.77705882352941|  7.990588235294118| 1024.469411764706|        8.52470588235294| 4.210588235294118|0.8870588235294118|              0.117|          0.1611875| 0.8590000000000001| 0.13566066179838016| 7.737000000000001|               0.095|\n",
      "|  12.755625000000002|           261.375|          8.848125|  6.239375000000001|1018.5806249999999|                 6.98875|6.1049999999999995|            0.8375|              0.105|0.22202083125000005|          2.0039999| 0.37667166759040577|10.656999900000002|               0.094|\n",
      "|             13.4225|          256.6875| 5.676875000000001| 2.5231250000000003|          1027.285|                 2.17625|5.0806249999999995|          0.801875|             0.1225|0.19293750000000007|              0.591| 0.13049535839956067| 9.261000000000003| 0.09699999999999999|\n",
      "|  13.366999999999999|             204.7|               9.3|  5.531999999999999|          1031.118|       7.800000000000002|3.8830000000000005|0.7739999999999999|              0.113|0.11768750000000001|              0.138|0.010310408395238077| 5.649000000000001|               0.109|\n",
      "|                12.6| 232.1764705882353|  8.11176470588235|  4.550588235294118|1022.0623529411763|       5.236470588235297| 6.368823529411765|0.7858823529411767|0.11149999999999999|0.11631250000000004|              0.138|0.009917009351013294| 5.583000000000002|               0.107|\n",
      "|  13.081764705882351|263.70588235294116| 6.844117647058822|  2.945882352941177|1020.5723529411764|      2.9435294117647053| 6.857058823529411|0.7617647058823529|              0.111|0.11622916666666665|              0.141|0.010004763936167591| 5.578999999999999|               0.107|\n",
      "+--------------------+------------------+------------------+-------------------+------------------+------------------------+------------------+------------------+-------------------+-------------------+-------------------+--------------------+------------------+--------------------+\n",
      "only showing top 20 rows\n",
      "\n"
     ]
    }
   ],
   "source": [
    "# Join the filtered and aggregated energy and weather tables\n",
    "weatherJoinEnergy = aggWeatherHourlyDf.join(filtereddailyEnergyDf, aggWeatherHourlyDf.Date == filtereddailyEnergyDf.Date, \"inner\"\n",
    "                                            ).select(\"DarkSky (visibility)\", \n",
    "                                                     \"avg(windBearing)\", \n",
    "                                                     \"avg(temperature)\",\n",
    "                                                     \"avg(dewPoint)\",\n",
    "                                                     \"avg(pressure)\",\n",
    "                                                     \"avg(apparentTemperature)\",\n",
    "                                                     \"avg(windSpeed)\",\n",
    "                                                     \"avg(humidity)\",\n",
    "                                                     \"energy_median\",\n",
    "                                                     \"energy_mean\",\n",
    "                                                     \"energy_max\",\n",
    "                                                     \"energy_std\",\n",
    "                                                     \"energy_sum\",\n",
    "                                                     \"energy_min\",\n",
    "                                                     )\n",
    "\n",
    "weatherJoinEnergy = weatherJoinEnergy.na.drop()\n",
    "\n",
    "weatherJoinEnergy.show()"
   ]
  },
  {
   "attachments": {},
   "cell_type": "markdown",
   "metadata": {},
   "source": [
    "# Model all of the energy and weather variables together"
   ]
  },
  {
   "cell_type": "code",
   "execution_count": 137,
   "metadata": {},
   "outputs": [],
   "source": [
    "from pyspark.ml.feature import VectorAssembler\n",
    "\n",
    "# converting columns into independent features (variable)\n",
    "# exclude string data type\n",
    "featureassembler = VectorAssembler(inputCols=[\"avg(windBearing)\", \n",
    "                                              \"avg(temperature)\",\n",
    "                                              \"avg(dewPoint)\",\n",
    "                                              \"avg(pressure)\",\n",
    "                                              \"avg(apparentTemperature)\",\n",
    "                                              \"avg(windSpeed)\",\n",
    "                                              \"avg(humidity)\",\n",
    "                                              \"energy_median\",\n",
    "                                              \"energy_mean\",\n",
    "                                              \"energy_max\",\n",
    "                                              \"energy_std\",\n",
    "                                              \"energy_sum\",\n",
    "                                              \"energy_min\"], \n",
    "                                    outputCol=\"Independent Features\")"
   ]
  },
  {
   "cell_type": "code",
   "execution_count": 138,
   "metadata": {},
   "outputs": [
    {
     "name": "stdout",
     "output_type": "stream",
     "text": [
      "+--------------------+------------------+------------------+-------------------+------------------+------------------------+------------------+------------------+-------------------+-------------------+-------------------+--------------------+------------------+--------------------+--------------------+\n",
      "|DarkSky (visibility)|  avg(windBearing)|  avg(temperature)|      avg(dewPoint)|     avg(pressure)|avg(apparentTemperature)|    avg(windSpeed)|     avg(humidity)|      energy_median|        energy_mean|         energy_max|          energy_std|        energy_sum|          energy_min|Independent Features|\n",
      "+--------------------+------------------+------------------+-------------------+------------------+------------------------+------------------+------------------+-------------------+-------------------+-------------------+--------------------+------------------+--------------------+--------------------+\n",
      "|  13.435000000000002|             227.0|           5.33625|             2.4925|1018.7537500000001|                  2.3175|           3.97125|0.8200000000000001|              0.107|0.15921739130434787| 0.5760000000000001| 0.11802116779387856| 3.662000000000001|               0.087|[227.0,5.33625,2....|\n",
      "|  12.920000000000002|             256.5| 4.688124999999999|0.35812499999999997|1010.5712500000001|                 0.90375|          5.293125|0.7375000000000002|              0.092|            0.12575|               0.57| 0.08927664391617872|             6.036|               0.087|[256.5,4.68812499...|\n",
      "|  12.968823529411766|240.35294117647058|1.9800000000000002| -0.378235294117647|1015.4294117647058|     -0.9794117647058824| 2.845294117647059|0.8458823529411766|             0.0925|0.20964583541666668| 1.3219999999999998|  0.2882244672915173|        10.0630001|               0.087|[240.352941176470...|\n",
      "|   11.94764705882353|204.11764705882354|5.7305882352941175|  4.096470588235294|1007.6599999999999|      3.1988235294117646|3.5411764705882356|0.8917647058823528|0.11599999999999999| 0.2451874979166667|          2.0009999| 0.32513993587499834|        11.7689999| 0.08800000000000001|[204.117647058823...|\n",
      "|  12.796923076923076| 235.6153846153846|5.6584615384615375|  3.742307692307693|1002.8476923076922|      2.3892307692307693| 4.655384615384615|0.8769230769230768|              0.095|0.12318750000000002|              0.326| 0.05794665788097247| 5.913000000000001|               0.087|[235.615384615384...|\n",
      "|  13.064444444444442|231.55555555555554| 5.842222222222222| 0.8955555555555554| 993.4955555555557|      1.7744444444444443| 6.578888888888888|0.7066666666666667|0.08900000000000001|0.09481250000000004|0.11599999999999999|0.010393648326353689| 4.551000000000002|               0.087|[231.555555555555...|\n",
      "|  13.297058823529412|217.47058823529412|4.9529411764705875| 1.8635294117647057| 994.3929411764706|      1.7794117647058825| 4.100588235294118|0.8047058823529413|0.08900000000000001|0.10025000000000006|0.36700000000000005|  0.0407020831711116| 4.812000000000003|               0.085|[217.470588235294...|\n",
      "|  12.532857142857141|             192.5|  5.50857142857143|  2.347142857142857|           996.135|      2.5292857142857144| 4.062857142857142|0.8021428571428573|             0.1005|0.17162499791666674|          1.2869999| 0.20087441969490832| 8.237999900000004|               0.092|[192.5,5.50857142...|\n",
      "|  11.042941176470588|213.35294117647058| 3.591176470588236| 1.8352941176470594| 988.5435294117646|    -0.47235294117647064| 5.129411764705882|0.8852941176470588|              0.532| 0.6125416645833334|              1.591| 0.32577893030935995|29.401999900000003|               0.095|[213.352941176470...|\n",
      "|   11.22235294117647|289.47058823529414|  2.76235294117647| 0.6917647058823528|1008.2647058823529|     -0.8411764705882351|4.0458823529411765|0.8641176470588237|              0.098|          0.2043125|              0.995| 0.22246952038425394|             9.807|               0.094|[289.470588235294...|\n",
      "|  13.042352941176471| 295.2352941176471|1.5099999999999998|-0.7158823529411764|1016.4747058823527|     -1.9100000000000004|3.3341176470588234|0.8535294117647058|0.36649999999999994|      0.47897916875|              2.372|  0.5333163476908179|        22.9910001|               0.096|[295.235294117647...|\n",
      "|  10.803529411764705|242.64705882352942|2.9370588235294117|  2.178235294117647|1014.2158823529411|      0.2499999999999997| 2.934705882352941|0.9470588235294118| 0.5514999999999999| 0.5084374979166667| 1.3869999999999998| 0.35284369566416657|24.404999900000004|               0.096|[242.647058823529...|\n",
      "|  13.011176470588234|265.05882352941177| 6.374117647058823|  4.023529411764706|1014.7629411764707|      3.5888235294117643| 3.978823529411765|0.8517647058823529|             0.1335|0.17885416666666665|              0.807|  0.1285258463257833| 8.584999999999999|               0.095|[265.058823529411...|\n",
      "|   9.331764705882353|247.11764705882354| 9.125882352941176|  8.006470588235294|1018.0900000000001|       8.258235294117647|3.1958823529411764|0.9276470588235294|0.08249999999999999|0.12616666666666676| 0.6759999999999999| 0.14078357213963977|6.0560000000000045|0.055999999999999994|[247.117647058823...|\n",
      "|   13.05764705882353|253.05882352941177|  9.77705882352941|  7.990588235294118| 1024.469411764706|        8.52470588235294| 4.210588235294118|0.8870588235294118|              0.117|          0.1611875| 0.8590000000000001| 0.13566066179838016| 7.737000000000001|               0.095|[253.058823529411...|\n",
      "|  12.755625000000002|           261.375|          8.848125|  6.239375000000001|1018.5806249999999|                 6.98875|6.1049999999999995|            0.8375|              0.105|0.22202083125000005|          2.0039999| 0.37667166759040577|10.656999900000002|               0.094|[261.375,8.848125...|\n",
      "|             13.4225|          256.6875| 5.676875000000001| 2.5231250000000003|          1027.285|                 2.17625|5.0806249999999995|          0.801875|             0.1225|0.19293750000000007|              0.591| 0.13049535839956067| 9.261000000000003| 0.09699999999999999|[256.6875,5.67687...|\n",
      "|  13.366999999999999|             204.7|               9.3|  5.531999999999999|          1031.118|       7.800000000000002|3.8830000000000005|0.7739999999999999|              0.113|0.11768750000000001|              0.138|0.010310408395238077| 5.649000000000001|               0.109|[204.7,9.3,5.5319...|\n",
      "|                12.6| 232.1764705882353|  8.11176470588235|  4.550588235294118|1022.0623529411763|       5.236470588235297| 6.368823529411765|0.7858823529411767|0.11149999999999999|0.11631250000000004|              0.138|0.009917009351013294| 5.583000000000002|               0.107|[232.176470588235...|\n",
      "|  13.081764705882351|263.70588235294116| 6.844117647058822|  2.945882352941177|1020.5723529411764|      2.9435294117647053| 6.857058823529411|0.7617647058823529|              0.111|0.11622916666666665|              0.141|0.010004763936167591| 5.578999999999999|               0.107|[263.705882352941...|\n",
      "+--------------------+------------------+------------------+-------------------+------------------+------------------------+------------------+------------------+-------------------+-------------------+-------------------+--------------------+------------------+--------------------+--------------------+\n",
      "only showing top 20 rows\n",
      "\n"
     ]
    }
   ],
   "source": [
    "# transforming\n",
    "output = featureassembler.transform(weatherJoinEnergy)\n",
    "\n",
    "output.show()"
   ]
  },
  {
   "cell_type": "code",
   "execution_count": 139,
   "metadata": {},
   "outputs": [
    {
     "name": "stdout",
     "output_type": "stream",
     "text": [
      "+--------------------+--------------------+\n",
      "|Independent Features|DarkSky (visibility)|\n",
      "+--------------------+--------------------+\n",
      "|[227.0,5.33625,2....|  13.435000000000002|\n",
      "|[256.5,4.68812499...|  12.920000000000002|\n",
      "|[240.352941176470...|  12.968823529411766|\n",
      "|[204.117647058823...|   11.94764705882353|\n",
      "|[235.615384615384...|  12.796923076923076|\n",
      "|[231.555555555555...|  13.064444444444442|\n",
      "|[217.470588235294...|  13.297058823529412|\n",
      "|[192.5,5.50857142...|  12.532857142857141|\n",
      "|[213.352941176470...|  11.042941176470588|\n",
      "|[289.470588235294...|   11.22235294117647|\n",
      "|[295.235294117647...|  13.042352941176471|\n",
      "|[242.647058823529...|  10.803529411764705|\n",
      "|[265.058823529411...|  13.011176470588234|\n",
      "|[247.117647058823...|   9.331764705882353|\n",
      "|[253.058823529411...|   13.05764705882353|\n",
      "|[261.375,8.848125...|  12.755625000000002|\n",
      "|[256.6875,5.67687...|             13.4225|\n",
      "|[204.7,9.3,5.5319...|  13.366999999999999|\n",
      "|[232.176470588235...|                12.6|\n",
      "|[263.705882352941...|  13.081764705882351|\n",
      "+--------------------+--------------------+\n",
      "only showing top 20 rows\n",
      "\n"
     ]
    }
   ],
   "source": [
    "# Selecting independent (feature) and dependent variable (price)\n",
    "finalized_data = output.select(\"Independent Features\", \"DarkSky (visibility)\")\n",
    "\n",
    "finalized_data.show()"
   ]
  },
  {
   "cell_type": "code",
   "execution_count": 140,
   "metadata": {},
   "outputs": [],
   "source": [
    "# Splitting data into train and test\n",
    "train_data, test_data = finalized_data.randomSplit([0.7, 0.3], seed=42)\n"
   ]
  },
  {
   "cell_type": "code",
   "execution_count": 141,
   "metadata": {},
   "outputs": [
    {
     "name": "stdout",
     "output_type": "stream",
     "text": [
      "+--------------------+--------------------+\n",
      "|Independent Features|DarkSky (visibility)|\n",
      "+--------------------+--------------------+\n",
      "|(13,[0,1,2,3,4,5,...|                3.67|\n",
      "|(13,[0,1,2,3,4,5,...|             13.1525|\n",
      "|(13,[0,1,2,3,4,5,...|  10.231666666666667|\n",
      "|(13,[0,1,2,3,4,5,...|  12.449166666666665|\n",
      "|(13,[0,1,2,3,4,5,...|  12.449166666666665|\n",
      "|(13,[0,1,2,3,4,5,...|   4.464999999999999|\n",
      "|(13,[0,1,2,3,4,5,...|  12.233333333333334|\n",
      "|(13,[0,1,2,3,4,5,...|   8.384615384615385|\n",
      "|(13,[0,1,2,3,4,5,...|   8.384615384615385|\n",
      "|(13,[0,1,2,3,4,5,...|  13.432142857142859|\n",
      "|(13,[0,1,2,3,4,5,...|            12.50375|\n",
      "|(13,[0,1,2,3,4,5,...|            13.27125|\n",
      "|(13,[0,1,2,3,4,5,...|              12.528|\n",
      "|(13,[0,1,2,3,4,5,...|               12.81|\n",
      "|(13,[0,1,2,3,4,5,...|  11.827000000000002|\n",
      "|(13,[0,1,2,3,4,5,...|  13.272499999999999|\n",
      "|(13,[0,1,2,3,4,5,...|  12.891428571428571|\n",
      "|(13,[0,1,2,3,4,5,...|   5.974285714285714|\n",
      "|(13,[0,1,2,3,4,5,...|             14.0025|\n",
      "|(13,[0,1,2,3,4,5,...|  13.052727272727275|\n",
      "+--------------------+--------------------+\n",
      "only showing top 20 rows\n",
      "\n"
     ]
    },
    {
     "name": "stderr",
     "output_type": "stream",
     "text": [
      "                                                                                \r"
     ]
    }
   ],
   "source": [
    "train_data.show()"
   ]
  },
  {
   "cell_type": "code",
   "execution_count": 142,
   "metadata": {},
   "outputs": [],
   "source": [
    "# applying linear regression on selected feature and label data\n",
    "regressor = LinearRegression(featuresCol = \"Independent Features\", labelCol = \"DarkSky (visibility)\")"
   ]
  },
  {
   "cell_type": "code",
   "execution_count": 143,
   "metadata": {},
   "outputs": [
    {
     "name": "stdout",
     "output_type": "stream",
     "text": [
      "23/06/11 02:39:45 WARN Instrumentation: [610e9f75] regParam is zero, which might cause numerical instability and overfitting.\n"
     ]
    },
    {
     "name": "stderr",
     "output_type": "stream",
     "text": [
      "                                                                                \r"
     ]
    }
   ],
   "source": [
    "# training our model\n",
    "trained_model = regressor.fit(train_data)"
   ]
  },
  {
   "cell_type": "code",
   "execution_count": 144,
   "metadata": {},
   "outputs": [
    {
     "name": "stderr",
     "output_type": "stream",
     "text": [
      "                                                                                \r"
     ]
    }
   ],
   "source": [
    "# evaluating the trained model with train data\n",
    "train_results = trained_model.evaluate(train_data)"
   ]
  },
  {
   "cell_type": "code",
   "execution_count": 145,
   "metadata": {},
   "outputs": [
    {
     "name": "stdout",
     "output_type": "stream",
     "text": [
      "The value of Rsquared is: 0.4925177622457696\n",
      "The model accuracy is 49% with train data\n"
     ]
    }
   ],
   "source": [
    "# Calculating Rsquared and printing value\n",
    "print(\"The value of Rsquared is:\", train_results.r2)\n",
    "print(\"The model accuracy is {0:.0f}% with train data\".format(train_results.r2*100))"
   ]
  },
  {
   "cell_type": "code",
   "execution_count": 146,
   "metadata": {},
   "outputs": [
    {
     "name": "stderr",
     "output_type": "stream",
     "text": [
      "                                                                                \r"
     ]
    }
   ],
   "source": [
    "# evaluate the trained model on test data\n",
    "test_results = trained_model.evaluate(test_data)"
   ]
  },
  {
   "cell_type": "code",
   "execution_count": 147,
   "metadata": {},
   "outputs": [
    {
     "name": "stdout",
     "output_type": "stream",
     "text": [
      "The value of Rsquared is: 0.49211412077897465\n",
      "The model accuracy is 49% with test data\n"
     ]
    }
   ],
   "source": [
    "# Calculating Rsquared and printing value\n",
    "print(\"The value of Rsquared is:\", test_results.r2)\n",
    "print(\"The model accuracy is {0:.0f}% with test data\".format(test_results.r2*100))"
   ]
  },
  {
   "cell_type": "code",
   "execution_count": 148,
   "metadata": {},
   "outputs": [],
   "source": [
    "# Predicting the amount of visibility\n",
    "predictions = trained_model.transform(test_data)"
   ]
  },
  {
   "cell_type": "code",
   "execution_count": 149,
   "metadata": {},
   "outputs": [
    {
     "name": "stdout",
     "output_type": "stream",
     "text": [
      "+--------------------+--------------------+------------------+\n",
      "|Independent Features|DarkSky (visibility)|        prediction|\n",
      "+--------------------+--------------------+------------------+\n",
      "|(13,[0,1,2,3,4,5,...|  13.264545454545452|11.566463168282468|\n",
      "|(13,[0,1,2,3,4,5,...|               8.216| 8.094285488675396|\n",
      "|(13,[0,1,2,3,4,5,...|  13.925714285714283|11.530212828341533|\n",
      "|(13,[0,1,2,3,4,5,...|             13.7625|11.624231652424129|\n",
      "|(13,[0,1,2,3,4,5,...|   7.235714285714287|10.433614867174782|\n",
      "|(13,[0,1,2,3,4,5,...|  10.509333333333334| 9.787300089813101|\n",
      "|(13,[0,1,2,3,4,5,...|  13.432142857142859|12.978985375917972|\n",
      "|(13,[0,1,2,3,4,5,...|    8.58230769230769| 7.292479367632467|\n",
      "|(13,[0,1,2,3,4,5,...|  12.452857142857143|11.117368230779846|\n",
      "|(13,[0,1,2,3,4,5,...|  11.827000000000002|12.447852539525257|\n",
      "|(13,[0,1,2,3,4,5,...|  11.827000000000002|12.447852539525257|\n",
      "|(13,[0,1,2,3,4,5,...|  12.783846153846154|11.058616136870157|\n",
      "|(13,[0,1,2,3,4,5,...|  12.783846153846154|11.058616136870157|\n",
      "|(13,[0,1,2,3,4,5,...|  7.9799999999999995|10.659341412060655|\n",
      "|(13,[0,1,2,3,4,5,...|             14.0025|12.173477803320907|\n",
      "|(13,[0,1,2,3,4,5,...|   4.217692307692307| 6.899951075049302|\n",
      "|(13,[0,1,2,3,4,5,...|               4.665|   9.9322165614048|\n",
      "|(13,[0,1,2,3,4,5,...|             12.4525|11.655292544336945|\n",
      "|(13,[0,1,2,3,4,5,...|    9.30181818181818|11.189128784893455|\n",
      "|(13,[0,1,2,3,4,5,...|   7.700909090909092| 9.064808340699273|\n",
      "+--------------------+--------------------+------------------+\n",
      "only showing top 20 rows\n",
      "\n"
     ]
    },
    {
     "name": "stderr",
     "output_type": "stream",
     "text": [
      "                                                                                \r"
     ]
    }
   ],
   "source": [
    "# display the prediction visibility and current visibility\n",
    "predictions.show(truncate=True)"
   ]
  },
  {
   "cell_type": "code",
   "execution_count": 150,
   "metadata": {},
   "outputs": [],
   "source": [
    "from pyspark.ml.feature import VectorAssembler\n",
    "\n",
    "# converting columns into independent features (variable)\n",
    "# exclude string data type\n",
    "weatherfeatureassembler = VectorAssembler(inputCols=[\"avg(temperature)\",\n",
    "                                              \"avg(dewPoint)\",\n",
    "                                              \"avg(pressure)\",\n",
    "                                              \"avg(humidity)\"],\n",
    "                                    outputCol=\"Independent Features\")"
   ]
  },
  {
   "cell_type": "code",
   "execution_count": 151,
   "metadata": {},
   "outputs": [
    {
     "name": "stdout",
     "output_type": "stream",
     "text": [
      "+--------------------+------------------+------------------+-------------------+------------------+------------------------+------------------+------------------+-------------------+-------------------+-------------------+--------------------+------------------+--------------------+--------------------+\n",
      "|DarkSky (visibility)|  avg(windBearing)|  avg(temperature)|      avg(dewPoint)|     avg(pressure)|avg(apparentTemperature)|    avg(windSpeed)|     avg(humidity)|      energy_median|        energy_mean|         energy_max|          energy_std|        energy_sum|          energy_min|Independent Features|\n",
      "+--------------------+------------------+------------------+-------------------+------------------+------------------------+------------------+------------------+-------------------+-------------------+-------------------+--------------------+------------------+--------------------+--------------------+\n",
      "|  13.435000000000002|             227.0|           5.33625|             2.4925|1018.7537500000001|                  2.3175|           3.97125|0.8200000000000001|              0.107|0.15921739130434787| 0.5760000000000001| 0.11802116779387856| 3.662000000000001|               0.087|[5.33625,2.4925,1...|\n",
      "|  12.920000000000002|             256.5| 4.688124999999999|0.35812499999999997|1010.5712500000001|                 0.90375|          5.293125|0.7375000000000002|              0.092|            0.12575|               0.57| 0.08927664391617872|             6.036|               0.087|[4.68812499999999...|\n",
      "|  12.968823529411766|240.35294117647058|1.9800000000000002| -0.378235294117647|1015.4294117647058|     -0.9794117647058824| 2.845294117647059|0.8458823529411766|             0.0925|0.20964583541666668| 1.3219999999999998|  0.2882244672915173|        10.0630001|               0.087|[1.98000000000000...|\n",
      "|   11.94764705882353|204.11764705882354|5.7305882352941175|  4.096470588235294|1007.6599999999999|      3.1988235294117646|3.5411764705882356|0.8917647058823528|0.11599999999999999| 0.2451874979166667|          2.0009999| 0.32513993587499834|        11.7689999| 0.08800000000000001|[5.73058823529411...|\n",
      "|  12.796923076923076| 235.6153846153846|5.6584615384615375|  3.742307692307693|1002.8476923076922|      2.3892307692307693| 4.655384615384615|0.8769230769230768|              0.095|0.12318750000000002|              0.326| 0.05794665788097247| 5.913000000000001|               0.087|[5.65846153846153...|\n",
      "|  13.064444444444442|231.55555555555554| 5.842222222222222| 0.8955555555555554| 993.4955555555557|      1.7744444444444443| 6.578888888888888|0.7066666666666667|0.08900000000000001|0.09481250000000004|0.11599999999999999|0.010393648326353689| 4.551000000000002|               0.087|[5.84222222222222...|\n",
      "|  13.297058823529412|217.47058823529412|4.9529411764705875| 1.8635294117647057| 994.3929411764706|      1.7794117647058825| 4.100588235294118|0.8047058823529413|0.08900000000000001|0.10025000000000006|0.36700000000000005|  0.0407020831711116| 4.812000000000003|               0.085|[4.95294117647058...|\n",
      "|  12.532857142857141|             192.5|  5.50857142857143|  2.347142857142857|           996.135|      2.5292857142857144| 4.062857142857142|0.8021428571428573|             0.1005|0.17162499791666674|          1.2869999| 0.20087441969490832| 8.237999900000004|               0.092|[5.50857142857143...|\n",
      "|  11.042941176470588|213.35294117647058| 3.591176470588236| 1.8352941176470594| 988.5435294117646|    -0.47235294117647064| 5.129411764705882|0.8852941176470588|              0.532| 0.6125416645833334|              1.591| 0.32577893030935995|29.401999900000003|               0.095|[3.59117647058823...|\n",
      "|   11.22235294117647|289.47058823529414|  2.76235294117647| 0.6917647058823528|1008.2647058823529|     -0.8411764705882351|4.0458823529411765|0.8641176470588237|              0.098|          0.2043125|              0.995| 0.22246952038425394|             9.807|               0.094|[2.76235294117647...|\n",
      "|  13.042352941176471| 295.2352941176471|1.5099999999999998|-0.7158823529411764|1016.4747058823527|     -1.9100000000000004|3.3341176470588234|0.8535294117647058|0.36649999999999994|      0.47897916875|              2.372|  0.5333163476908179|        22.9910001|               0.096|[1.50999999999999...|\n",
      "|  10.803529411764705|242.64705882352942|2.9370588235294117|  2.178235294117647|1014.2158823529411|      0.2499999999999997| 2.934705882352941|0.9470588235294118| 0.5514999999999999| 0.5084374979166667| 1.3869999999999998| 0.35284369566416657|24.404999900000004|               0.096|[2.93705882352941...|\n",
      "|  13.011176470588234|265.05882352941177| 6.374117647058823|  4.023529411764706|1014.7629411764707|      3.5888235294117643| 3.978823529411765|0.8517647058823529|             0.1335|0.17885416666666665|              0.807|  0.1285258463257833| 8.584999999999999|               0.095|[6.37411764705882...|\n",
      "|   9.331764705882353|247.11764705882354| 9.125882352941176|  8.006470588235294|1018.0900000000001|       8.258235294117647|3.1958823529411764|0.9276470588235294|0.08249999999999999|0.12616666666666676| 0.6759999999999999| 0.14078357213963977|6.0560000000000045|0.055999999999999994|[9.12588235294117...|\n",
      "|   13.05764705882353|253.05882352941177|  9.77705882352941|  7.990588235294118| 1024.469411764706|        8.52470588235294| 4.210588235294118|0.8870588235294118|              0.117|          0.1611875| 0.8590000000000001| 0.13566066179838016| 7.737000000000001|               0.095|[9.77705882352941...|\n",
      "|  12.755625000000002|           261.375|          8.848125|  6.239375000000001|1018.5806249999999|                 6.98875|6.1049999999999995|            0.8375|              0.105|0.22202083125000005|          2.0039999| 0.37667166759040577|10.656999900000002|               0.094|[8.848125,6.23937...|\n",
      "|             13.4225|          256.6875| 5.676875000000001| 2.5231250000000003|          1027.285|                 2.17625|5.0806249999999995|          0.801875|             0.1225|0.19293750000000007|              0.591| 0.13049535839956067| 9.261000000000003| 0.09699999999999999|[5.67687500000000...|\n",
      "|  13.366999999999999|             204.7|               9.3|  5.531999999999999|          1031.118|       7.800000000000002|3.8830000000000005|0.7739999999999999|              0.113|0.11768750000000001|              0.138|0.010310408395238077| 5.649000000000001|               0.109|[9.3,5.5319999999...|\n",
      "|                12.6| 232.1764705882353|  8.11176470588235|  4.550588235294118|1022.0623529411763|       5.236470588235297| 6.368823529411765|0.7858823529411767|0.11149999999999999|0.11631250000000004|              0.138|0.009917009351013294| 5.583000000000002|               0.107|[8.11176470588235...|\n",
      "|  13.081764705882351|263.70588235294116| 6.844117647058822|  2.945882352941177|1020.5723529411764|      2.9435294117647053| 6.857058823529411|0.7617647058823529|              0.111|0.11622916666666665|              0.141|0.010004763936167591| 5.578999999999999|               0.107|[6.84411764705882...|\n",
      "+--------------------+------------------+------------------+-------------------+------------------+------------------------+------------------+------------------+-------------------+-------------------+-------------------+--------------------+------------------+--------------------+--------------------+\n",
      "only showing top 20 rows\n",
      "\n"
     ]
    }
   ],
   "source": [
    "# transforming\n",
    "output = weatherfeatureassembler.transform(weatherJoinEnergy)\n",
    "\n",
    "output.show()"
   ]
  },
  {
   "cell_type": "code",
   "execution_count": 152,
   "metadata": {},
   "outputs": [
    {
     "name": "stdout",
     "output_type": "stream",
     "text": [
      "+--------------------+--------------------+\n",
      "|Independent Features|DarkSky (visibility)|\n",
      "+--------------------+--------------------+\n",
      "|[5.33625,2.4925,1...|  13.435000000000002|\n",
      "|[4.68812499999999...|  12.920000000000002|\n",
      "|[1.98000000000000...|  12.968823529411766|\n",
      "|[5.73058823529411...|   11.94764705882353|\n",
      "|[5.65846153846153...|  12.796923076923076|\n",
      "|[5.84222222222222...|  13.064444444444442|\n",
      "|[4.95294117647058...|  13.297058823529412|\n",
      "|[5.50857142857143...|  12.532857142857141|\n",
      "|[3.59117647058823...|  11.042941176470588|\n",
      "|[2.76235294117647...|   11.22235294117647|\n",
      "|[1.50999999999999...|  13.042352941176471|\n",
      "|[2.93705882352941...|  10.803529411764705|\n",
      "|[6.37411764705882...|  13.011176470588234|\n",
      "|[9.12588235294117...|   9.331764705882353|\n",
      "|[9.77705882352941...|   13.05764705882353|\n",
      "|[8.848125,6.23937...|  12.755625000000002|\n",
      "|[5.67687500000000...|             13.4225|\n",
      "|[9.3,5.5319999999...|  13.366999999999999|\n",
      "|[8.11176470588235...|                12.6|\n",
      "|[6.84411764705882...|  13.081764705882351|\n",
      "+--------------------+--------------------+\n",
      "only showing top 20 rows\n",
      "\n"
     ]
    }
   ],
   "source": [
    "# Selecting independent (feature) and dependent variable (price)\n",
    "finalized_data = output.select(\"Independent Features\", \"DarkSky (visibility)\")\n",
    "\n",
    "finalized_data.show()"
   ]
  },
  {
   "cell_type": "code",
   "execution_count": 153,
   "metadata": {},
   "outputs": [],
   "source": [
    "# Splitting data into train and test\n",
    "train_data, test_data = finalized_data.randomSplit([0.7, 0.3], seed=42)"
   ]
  },
  {
   "cell_type": "code",
   "execution_count": 154,
   "metadata": {},
   "outputs": [],
   "source": [
    "# applying linear regression on selected feature and label data\n",
    "regressor = LinearRegression(featuresCol = \"Independent Features\", labelCol = \"DarkSky (visibility)\")"
   ]
  },
  {
   "cell_type": "code",
   "execution_count": 155,
   "metadata": {},
   "outputs": [
    {
     "name": "stdout",
     "output_type": "stream",
     "text": [
      "23/06/11 02:39:56 WARN Instrumentation: [9e13b480] regParam is zero, which might cause numerical instability and overfitting.\n"
     ]
    },
    {
     "name": "stderr",
     "output_type": "stream",
     "text": [
      "                                                                                \r"
     ]
    }
   ],
   "source": [
    "# training our model\n",
    "trained_model = regressor.fit(train_data)"
   ]
  },
  {
   "cell_type": "code",
   "execution_count": 156,
   "metadata": {},
   "outputs": [
    {
     "name": "stderr",
     "output_type": "stream",
     "text": [
      "[Stage 548:>                                                        (0 + 8) / 8]\r"
     ]
    },
    {
     "name": "stdout",
     "output_type": "stream",
     "text": [
      "The value of Rsquared is: 0.38493383057940067\n",
      "The model accuracy is 38% with train data\n"
     ]
    },
    {
     "name": "stderr",
     "output_type": "stream",
     "text": [
      "                                                                                \r"
     ]
    }
   ],
   "source": [
    "# evaluating the trained model with train data\n",
    "train_results = trained_model.evaluate(train_data)\n",
    "\n",
    "# Calculating Rsquared and printing value\n",
    "print(\"The value of Rsquared is:\", train_results.r2)\n",
    "print(\"The model accuracy is {0:.0f}% with train data\".format(train_results.r2*100))"
   ]
  },
  {
   "cell_type": "code",
   "execution_count": 157,
   "metadata": {},
   "outputs": [],
   "source": [
    "from pyspark.ml.feature import VectorAssembler\n",
    "\n",
    "# converting columns into independent features (variable)\n",
    "# exclude string data type\n",
    "energyfeatureassembler = VectorAssembler(inputCols=[\"energy_median\",\n",
    "                                                    \"energy_mean\",\n",
    "                                                    \"energy_max\",\n",
    "                                                    \"energy_std\",\n",
    "                                                    \"energy_sum\",\n",
    "                                                    \"energy_min\"], \n",
    "                                        outputCol=\"Independent Features\")"
   ]
  },
  {
   "cell_type": "code",
   "execution_count": 158,
   "metadata": {},
   "outputs": [
    {
     "name": "stdout",
     "output_type": "stream",
     "text": [
      "+--------------------+------------------+------------------+-------------------+------------------+------------------------+------------------+------------------+-------------------+-------------------+-------------------+--------------------+------------------+--------------------+--------------------+\n",
      "|DarkSky (visibility)|  avg(windBearing)|  avg(temperature)|      avg(dewPoint)|     avg(pressure)|avg(apparentTemperature)|    avg(windSpeed)|     avg(humidity)|      energy_median|        energy_mean|         energy_max|          energy_std|        energy_sum|          energy_min|Independent Features|\n",
      "+--------------------+------------------+------------------+-------------------+------------------+------------------------+------------------+------------------+-------------------+-------------------+-------------------+--------------------+------------------+--------------------+--------------------+\n",
      "|  13.435000000000002|             227.0|           5.33625|             2.4925|1018.7537500000001|                  2.3175|           3.97125|0.8200000000000001|              0.107|0.15921739130434787| 0.5760000000000001| 0.11802116779387856| 3.662000000000001|               0.087|[0.107,0.15921739...|\n",
      "|  12.920000000000002|             256.5| 4.688124999999999|0.35812499999999997|1010.5712500000001|                 0.90375|          5.293125|0.7375000000000002|              0.092|            0.12575|               0.57| 0.08927664391617872|             6.036|               0.087|[0.092,0.12575,0....|\n",
      "|  12.968823529411766|240.35294117647058|1.9800000000000002| -0.378235294117647|1015.4294117647058|     -0.9794117647058824| 2.845294117647059|0.8458823529411766|             0.0925|0.20964583541666668| 1.3219999999999998|  0.2882244672915173|        10.0630001|               0.087|[0.0925,0.2096458...|\n",
      "|   11.94764705882353|204.11764705882354|5.7305882352941175|  4.096470588235294|1007.6599999999999|      3.1988235294117646|3.5411764705882356|0.8917647058823528|0.11599999999999999| 0.2451874979166667|          2.0009999| 0.32513993587499834|        11.7689999| 0.08800000000000001|[0.11599999999999...|\n",
      "|  12.796923076923076| 235.6153846153846|5.6584615384615375|  3.742307692307693|1002.8476923076922|      2.3892307692307693| 4.655384615384615|0.8769230769230768|              0.095|0.12318750000000002|              0.326| 0.05794665788097247| 5.913000000000001|               0.087|[0.095,0.12318750...|\n",
      "|  13.064444444444442|231.55555555555554| 5.842222222222222| 0.8955555555555554| 993.4955555555557|      1.7744444444444443| 6.578888888888888|0.7066666666666667|0.08900000000000001|0.09481250000000004|0.11599999999999999|0.010393648326353689| 4.551000000000002|               0.087|[0.08900000000000...|\n",
      "|  13.297058823529412|217.47058823529412|4.9529411764705875| 1.8635294117647057| 994.3929411764706|      1.7794117647058825| 4.100588235294118|0.8047058823529413|0.08900000000000001|0.10025000000000006|0.36700000000000005|  0.0407020831711116| 4.812000000000003|               0.085|[0.08900000000000...|\n",
      "|  12.532857142857141|             192.5|  5.50857142857143|  2.347142857142857|           996.135|      2.5292857142857144| 4.062857142857142|0.8021428571428573|             0.1005|0.17162499791666674|          1.2869999| 0.20087441969490832| 8.237999900000004|               0.092|[0.1005,0.1716249...|\n",
      "|  11.042941176470588|213.35294117647058| 3.591176470588236| 1.8352941176470594| 988.5435294117646|    -0.47235294117647064| 5.129411764705882|0.8852941176470588|              0.532| 0.6125416645833334|              1.591| 0.32577893030935995|29.401999900000003|               0.095|[0.532,0.61254166...|\n",
      "|   11.22235294117647|289.47058823529414|  2.76235294117647| 0.6917647058823528|1008.2647058823529|     -0.8411764705882351|4.0458823529411765|0.8641176470588237|              0.098|          0.2043125|              0.995| 0.22246952038425394|             9.807|               0.094|[0.098,0.2043125,...|\n",
      "|  13.042352941176471| 295.2352941176471|1.5099999999999998|-0.7158823529411764|1016.4747058823527|     -1.9100000000000004|3.3341176470588234|0.8535294117647058|0.36649999999999994|      0.47897916875|              2.372|  0.5333163476908179|        22.9910001|               0.096|[0.36649999999999...|\n",
      "|  10.803529411764705|242.64705882352942|2.9370588235294117|  2.178235294117647|1014.2158823529411|      0.2499999999999997| 2.934705882352941|0.9470588235294118| 0.5514999999999999| 0.5084374979166667| 1.3869999999999998| 0.35284369566416657|24.404999900000004|               0.096|[0.55149999999999...|\n",
      "|  13.011176470588234|265.05882352941177| 6.374117647058823|  4.023529411764706|1014.7629411764707|      3.5888235294117643| 3.978823529411765|0.8517647058823529|             0.1335|0.17885416666666665|              0.807|  0.1285258463257833| 8.584999999999999|               0.095|[0.1335,0.1788541...|\n",
      "|   9.331764705882353|247.11764705882354| 9.125882352941176|  8.006470588235294|1018.0900000000001|       8.258235294117647|3.1958823529411764|0.9276470588235294|0.08249999999999999|0.12616666666666676| 0.6759999999999999| 0.14078357213963977|6.0560000000000045|0.055999999999999994|[0.08249999999999...|\n",
      "|   13.05764705882353|253.05882352941177|  9.77705882352941|  7.990588235294118| 1024.469411764706|        8.52470588235294| 4.210588235294118|0.8870588235294118|              0.117|          0.1611875| 0.8590000000000001| 0.13566066179838016| 7.737000000000001|               0.095|[0.117,0.1611875,...|\n",
      "|  12.755625000000002|           261.375|          8.848125|  6.239375000000001|1018.5806249999999|                 6.98875|6.1049999999999995|            0.8375|              0.105|0.22202083125000005|          2.0039999| 0.37667166759040577|10.656999900000002|               0.094|[0.105,0.22202083...|\n",
      "|             13.4225|          256.6875| 5.676875000000001| 2.5231250000000003|          1027.285|                 2.17625|5.0806249999999995|          0.801875|             0.1225|0.19293750000000007|              0.591| 0.13049535839956067| 9.261000000000003| 0.09699999999999999|[0.1225,0.1929375...|\n",
      "|  13.366999999999999|             204.7|               9.3|  5.531999999999999|          1031.118|       7.800000000000002|3.8830000000000005|0.7739999999999999|              0.113|0.11768750000000001|              0.138|0.010310408395238077| 5.649000000000001|               0.109|[0.113,0.11768750...|\n",
      "|                12.6| 232.1764705882353|  8.11176470588235|  4.550588235294118|1022.0623529411763|       5.236470588235297| 6.368823529411765|0.7858823529411767|0.11149999999999999|0.11631250000000004|              0.138|0.009917009351013294| 5.583000000000002|               0.107|[0.11149999999999...|\n",
      "|  13.081764705882351|263.70588235294116| 6.844117647058822|  2.945882352941177|1020.5723529411764|      2.9435294117647053| 6.857058823529411|0.7617647058823529|              0.111|0.11622916666666665|              0.141|0.010004763936167591| 5.578999999999999|               0.107|[0.111,0.11622916...|\n",
      "+--------------------+------------------+------------------+-------------------+------------------+------------------------+------------------+------------------+-------------------+-------------------+-------------------+--------------------+------------------+--------------------+--------------------+\n",
      "only showing top 20 rows\n",
      "\n"
     ]
    }
   ],
   "source": [
    "# transforming\n",
    "output = energyfeatureassembler.transform(weatherJoinEnergy)\n",
    "\n",
    "output.show()"
   ]
  },
  {
   "cell_type": "code",
   "execution_count": 159,
   "metadata": {},
   "outputs": [
    {
     "name": "stdout",
     "output_type": "stream",
     "text": [
      "+--------------------+--------------------+\n",
      "|Independent Features|DarkSky (visibility)|\n",
      "+--------------------+--------------------+\n",
      "|[0.107,0.15921739...|  13.435000000000002|\n",
      "|[0.092,0.12575,0....|  12.920000000000002|\n",
      "|[0.0925,0.2096458...|  12.968823529411766|\n",
      "|[0.11599999999999...|   11.94764705882353|\n",
      "|[0.095,0.12318750...|  12.796923076923076|\n",
      "|[0.08900000000000...|  13.064444444444442|\n",
      "|[0.08900000000000...|  13.297058823529412|\n",
      "|[0.1005,0.1716249...|  12.532857142857141|\n",
      "|[0.532,0.61254166...|  11.042941176470588|\n",
      "|[0.098,0.2043125,...|   11.22235294117647|\n",
      "|[0.36649999999999...|  13.042352941176471|\n",
      "|[0.55149999999999...|  10.803529411764705|\n",
      "|[0.1335,0.1788541...|  13.011176470588234|\n",
      "|[0.08249999999999...|   9.331764705882353|\n",
      "|[0.117,0.1611875,...|   13.05764705882353|\n",
      "|[0.105,0.22202083...|  12.755625000000002|\n",
      "|[0.1225,0.1929375...|             13.4225|\n",
      "|[0.113,0.11768750...|  13.366999999999999|\n",
      "|[0.11149999999999...|                12.6|\n",
      "|[0.111,0.11622916...|  13.081764705882351|\n",
      "+--------------------+--------------------+\n",
      "only showing top 20 rows\n",
      "\n"
     ]
    }
   ],
   "source": [
    "# Selecting independent (feature) and dependent variable (price)\n",
    "finalized_data = output.select(\"Independent Features\", \"DarkSky (visibility)\")\n",
    "\n",
    "finalized_data.show()"
   ]
  },
  {
   "cell_type": "code",
   "execution_count": 160,
   "metadata": {},
   "outputs": [],
   "source": [
    "# Splitting data into train and test\n",
    "train_data, test_data = finalized_data.randomSplit([0.7, 0.3], seed=42)"
   ]
  },
  {
   "cell_type": "code",
   "execution_count": 161,
   "metadata": {},
   "outputs": [],
   "source": [
    "# applying linear regression on selected feature and label data\n",
    "regressor = LinearRegression(featuresCol = \"Independent Features\", labelCol = \"DarkSky (visibility)\")"
   ]
  },
  {
   "cell_type": "code",
   "execution_count": 162,
   "metadata": {},
   "outputs": [
    {
     "name": "stdout",
     "output_type": "stream",
     "text": [
      "23/06/11 02:40:03 WARN Instrumentation: [609a6ade] regParam is zero, which might cause numerical instability and overfitting.\n"
     ]
    },
    {
     "name": "stderr",
     "output_type": "stream",
     "text": [
      "                                                                                \r"
     ]
    }
   ],
   "source": [
    "# training our model\n",
    "trained_model = regressor.fit(train_data)"
   ]
  },
  {
   "cell_type": "code",
   "execution_count": 163,
   "metadata": {},
   "outputs": [
    {
     "name": "stderr",
     "output_type": "stream",
     "text": [
      "[Stage 586:>                                                        (0 + 8) / 8]\r"
     ]
    },
    {
     "name": "stdout",
     "output_type": "stream",
     "text": [
      "The value of Rsquared is: 0.003394646251341449\n",
      "The model accuracy is 0% with train data\n"
     ]
    },
    {
     "name": "stderr",
     "output_type": "stream",
     "text": [
      "                                                                                \r"
     ]
    }
   ],
   "source": [
    "# evaluating the trained model with train data\n",
    "train_results = trained_model.evaluate(train_data)\n",
    "\n",
    "# Calculating Rsquared and printing value\n",
    "print(\"The value of Rsquared is:\", train_results.r2)\n",
    "print(\"The model accuracy is {0:.0f}% with train data\".format(train_results.r2*100))"
   ]
  },
  {
   "cell_type": "code",
   "execution_count": 167,
   "metadata": {},
   "outputs": [],
   "source": [
    "from pyspark.ml.feature import VectorAssembler\n",
    "\n",
    "# converting columns into independent features (variable)\n",
    "# exclude string data type\n",
    "featureassembler = VectorAssembler(inputCols=[\"avg(windBearing)\", \n",
    "                                              \"avg(temperature)\",\n",
    "                                              \"avg(dewPoint)\",\n",
    "                                              \"avg(pressure)\",\n",
    "                                              \"avg(apparentTemperature)\",\n",
    "                                              \"avg(windSpeed)\",\n",
    "                                              \"avg(humidity)\"],\n",
    "                                    outputCol=\"Independent Features\")"
   ]
  },
  {
   "cell_type": "code",
   "execution_count": 168,
   "metadata": {},
   "outputs": [
    {
     "name": "stdout",
     "output_type": "stream",
     "text": [
      "+--------------------+------------------+------------------+-------------------+------------------+------------------------+------------------+------------------+-------------------+-------------------+-------------------+--------------------+------------------+--------------------+--------------------+\n",
      "|DarkSky (visibility)|  avg(windBearing)|  avg(temperature)|      avg(dewPoint)|     avg(pressure)|avg(apparentTemperature)|    avg(windSpeed)|     avg(humidity)|      energy_median|        energy_mean|         energy_max|          energy_std|        energy_sum|          energy_min|Independent Features|\n",
      "+--------------------+------------------+------------------+-------------------+------------------+------------------------+------------------+------------------+-------------------+-------------------+-------------------+--------------------+------------------+--------------------+--------------------+\n",
      "|  13.435000000000002|             227.0|           5.33625|             2.4925|1018.7537500000001|                  2.3175|           3.97125|0.8200000000000001|              0.107|0.15921739130434787| 0.5760000000000001| 0.11802116779387856| 3.662000000000001|               0.087|[227.0,5.33625,2....|\n",
      "|  12.920000000000002|             256.5| 4.688124999999999|0.35812499999999997|1010.5712500000001|                 0.90375|          5.293125|0.7375000000000002|              0.092|            0.12575|               0.57| 0.08927664391617872|             6.036|               0.087|[256.5,4.68812499...|\n",
      "|  12.968823529411766|240.35294117647058|1.9800000000000002| -0.378235294117647|1015.4294117647058|     -0.9794117647058824| 2.845294117647059|0.8458823529411766|             0.0925|0.20964583541666668| 1.3219999999999998|  0.2882244672915173|        10.0630001|               0.087|[240.352941176470...|\n",
      "|   11.94764705882353|204.11764705882354|5.7305882352941175|  4.096470588235294|1007.6599999999999|      3.1988235294117646|3.5411764705882356|0.8917647058823528|0.11599999999999999| 0.2451874979166667|          2.0009999| 0.32513993587499834|        11.7689999| 0.08800000000000001|[204.117647058823...|\n",
      "|  12.796923076923076| 235.6153846153846|5.6584615384615375|  3.742307692307693|1002.8476923076922|      2.3892307692307693| 4.655384615384615|0.8769230769230768|              0.095|0.12318750000000002|              0.326| 0.05794665788097247| 5.913000000000001|               0.087|[235.615384615384...|\n",
      "|  13.064444444444442|231.55555555555554| 5.842222222222222| 0.8955555555555554| 993.4955555555557|      1.7744444444444443| 6.578888888888888|0.7066666666666667|0.08900000000000001|0.09481250000000004|0.11599999999999999|0.010393648326353689| 4.551000000000002|               0.087|[231.555555555555...|\n",
      "|  13.297058823529412|217.47058823529412|4.9529411764705875| 1.8635294117647057| 994.3929411764706|      1.7794117647058825| 4.100588235294118|0.8047058823529413|0.08900000000000001|0.10025000000000006|0.36700000000000005|  0.0407020831711116| 4.812000000000003|               0.085|[217.470588235294...|\n",
      "|  12.532857142857141|             192.5|  5.50857142857143|  2.347142857142857|           996.135|      2.5292857142857144| 4.062857142857142|0.8021428571428573|             0.1005|0.17162499791666674|          1.2869999| 0.20087441969490832| 8.237999900000004|               0.092|[192.5,5.50857142...|\n",
      "|  11.042941176470588|213.35294117647058| 3.591176470588236| 1.8352941176470594| 988.5435294117646|    -0.47235294117647064| 5.129411764705882|0.8852941176470588|              0.532| 0.6125416645833334|              1.591| 0.32577893030935995|29.401999900000003|               0.095|[213.352941176470...|\n",
      "|   11.22235294117647|289.47058823529414|  2.76235294117647| 0.6917647058823528|1008.2647058823529|     -0.8411764705882351|4.0458823529411765|0.8641176470588237|              0.098|          0.2043125|              0.995| 0.22246952038425394|             9.807|               0.094|[289.470588235294...|\n",
      "|  13.042352941176471| 295.2352941176471|1.5099999999999998|-0.7158823529411764|1016.4747058823527|     -1.9100000000000004|3.3341176470588234|0.8535294117647058|0.36649999999999994|      0.47897916875|              2.372|  0.5333163476908179|        22.9910001|               0.096|[295.235294117647...|\n",
      "|  10.803529411764705|242.64705882352942|2.9370588235294117|  2.178235294117647|1014.2158823529411|      0.2499999999999997| 2.934705882352941|0.9470588235294118| 0.5514999999999999| 0.5084374979166667| 1.3869999999999998| 0.35284369566416657|24.404999900000004|               0.096|[242.647058823529...|\n",
      "|  13.011176470588234|265.05882352941177| 6.374117647058823|  4.023529411764706|1014.7629411764707|      3.5888235294117643| 3.978823529411765|0.8517647058823529|             0.1335|0.17885416666666665|              0.807|  0.1285258463257833| 8.584999999999999|               0.095|[265.058823529411...|\n",
      "|   9.331764705882353|247.11764705882354| 9.125882352941176|  8.006470588235294|1018.0900000000001|       8.258235294117647|3.1958823529411764|0.9276470588235294|0.08249999999999999|0.12616666666666676| 0.6759999999999999| 0.14078357213963977|6.0560000000000045|0.055999999999999994|[247.117647058823...|\n",
      "|   13.05764705882353|253.05882352941177|  9.77705882352941|  7.990588235294118| 1024.469411764706|        8.52470588235294| 4.210588235294118|0.8870588235294118|              0.117|          0.1611875| 0.8590000000000001| 0.13566066179838016| 7.737000000000001|               0.095|[253.058823529411...|\n",
      "|  12.755625000000002|           261.375|          8.848125|  6.239375000000001|1018.5806249999999|                 6.98875|6.1049999999999995|            0.8375|              0.105|0.22202083125000005|          2.0039999| 0.37667166759040577|10.656999900000002|               0.094|[261.375,8.848125...|\n",
      "|             13.4225|          256.6875| 5.676875000000001| 2.5231250000000003|          1027.285|                 2.17625|5.0806249999999995|          0.801875|             0.1225|0.19293750000000007|              0.591| 0.13049535839956067| 9.261000000000003| 0.09699999999999999|[256.6875,5.67687...|\n",
      "|  13.366999999999999|             204.7|               9.3|  5.531999999999999|          1031.118|       7.800000000000002|3.8830000000000005|0.7739999999999999|              0.113|0.11768750000000001|              0.138|0.010310408395238077| 5.649000000000001|               0.109|[204.7,9.3,5.5319...|\n",
      "|                12.6| 232.1764705882353|  8.11176470588235|  4.550588235294118|1022.0623529411763|       5.236470588235297| 6.368823529411765|0.7858823529411767|0.11149999999999999|0.11631250000000004|              0.138|0.009917009351013294| 5.583000000000002|               0.107|[232.176470588235...|\n",
      "|  13.081764705882351|263.70588235294116| 6.844117647058822|  2.945882352941177|1020.5723529411764|      2.9435294117647053| 6.857058823529411|0.7617647058823529|              0.111|0.11622916666666665|              0.141|0.010004763936167591| 5.578999999999999|               0.107|[263.705882352941...|\n",
      "+--------------------+------------------+------------------+-------------------+------------------+------------------------+------------------+------------------+-------------------+-------------------+-------------------+--------------------+------------------+--------------------+--------------------+\n",
      "only showing top 20 rows\n",
      "\n"
     ]
    }
   ],
   "source": [
    "# transforming\n",
    "output = featureassembler.transform(weatherJoinEnergy)\n",
    "\n",
    "output.show()"
   ]
  },
  {
   "cell_type": "code",
   "execution_count": 169,
   "metadata": {},
   "outputs": [
    {
     "name": "stdout",
     "output_type": "stream",
     "text": [
      "+--------------------+------------------+\n",
      "|Independent Features|        energy_sum|\n",
      "+--------------------+------------------+\n",
      "|[227.0,5.33625,2....| 3.662000000000001|\n",
      "|[256.5,4.68812499...|             6.036|\n",
      "|[240.352941176470...|        10.0630001|\n",
      "|[204.117647058823...|        11.7689999|\n",
      "|[235.615384615384...| 5.913000000000001|\n",
      "|[231.555555555555...| 4.551000000000002|\n",
      "|[217.470588235294...| 4.812000000000003|\n",
      "|[192.5,5.50857142...| 8.237999900000004|\n",
      "|[213.352941176470...|29.401999900000003|\n",
      "|[289.470588235294...|             9.807|\n",
      "|[295.235294117647...|        22.9910001|\n",
      "|[242.647058823529...|24.404999900000004|\n",
      "|[265.058823529411...| 8.584999999999999|\n",
      "|[247.117647058823...|6.0560000000000045|\n",
      "|[253.058823529411...| 7.737000000000001|\n",
      "|[261.375,8.848125...|10.656999900000002|\n",
      "|[256.6875,5.67687...| 9.261000000000003|\n",
      "|[204.7,9.3,5.5319...| 5.649000000000001|\n",
      "|[232.176470588235...| 5.583000000000002|\n",
      "|[263.705882352941...| 5.578999999999999|\n",
      "+--------------------+------------------+\n",
      "only showing top 20 rows\n",
      "\n"
     ]
    }
   ],
   "source": [
    "# Selecting independent (feature) and dependent variable (price)\n",
    "finalized_data = output.select(\"Independent Features\", \"energy_sum\")\n",
    "\n",
    "finalized_data.show()"
   ]
  },
  {
   "cell_type": "code",
   "execution_count": 170,
   "metadata": {},
   "outputs": [],
   "source": [
    "# Splitting data into train and test\n",
    "train_data, test_data = finalized_data.randomSplit([0.7, 0.3], seed=42)"
   ]
  },
  {
   "cell_type": "code",
   "execution_count": 171,
   "metadata": {},
   "outputs": [],
   "source": [
    "# applying linear regression on selected feature and label data\n",
    "regressor = LinearRegression(featuresCol = \"Independent Features\", labelCol = \"energy_sum\")"
   ]
  },
  {
   "cell_type": "code",
   "execution_count": 172,
   "metadata": {},
   "outputs": [
    {
     "name": "stdout",
     "output_type": "stream",
     "text": [
      "23/06/11 02:47:59 WARN Instrumentation: [f91145c4] regParam is zero, which might cause numerical instability and overfitting.\n"
     ]
    },
    {
     "name": "stderr",
     "output_type": "stream",
     "text": [
      "                                                                                \r"
     ]
    }
   ],
   "source": [
    "# training our model\n",
    "trained_model = regressor.fit(train_data)"
   ]
  },
  {
   "cell_type": "code",
   "execution_count": 173,
   "metadata": {},
   "outputs": [
    {
     "name": "stderr",
     "output_type": "stream",
     "text": [
      "[Stage 636:>                                                        (0 + 8) / 8]\r"
     ]
    },
    {
     "name": "stdout",
     "output_type": "stream",
     "text": [
      "The value of Rsquared is: 0.03223064821031474\n",
      "The model accuracy is 3% with train data\n"
     ]
    },
    {
     "name": "stderr",
     "output_type": "stream",
     "text": [
      "                                                                                \r"
     ]
    }
   ],
   "source": [
    "# evaluating the trained model with train data\n",
    "train_results = trained_model.evaluate(train_data)\n",
    "\n",
    "# Calculating Rsquared and printing value\n",
    "print(\"The value of Rsquared is:\", train_results.r2)\n",
    "print(\"The model accuracy is {0:.0f}% with train data\".format(train_results.r2*100))"
   ]
  }
 ],
 "metadata": {
  "kernelspec": {
   "display_name": "Python 3",
   "language": "python",
   "name": "python3"
  },
  "language_info": {
   "codemirror_mode": {
    "name": "ipython",
    "version": 3
   },
   "file_extension": ".py",
   "mimetype": "text/x-python",
   "name": "python",
   "nbconvert_exporter": "python",
   "pygments_lexer": "ipython3",
   "version": "3.11.1"
  },
  "orig_nbformat": 4
 },
 "nbformat": 4,
 "nbformat_minor": 2
}
